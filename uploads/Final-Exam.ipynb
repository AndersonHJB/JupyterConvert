{
 "cells": [
  {
   "cell_type": "markdown",
   "id": "e233f9e0-0cdc-4675-846f-ac4405824995",
   "metadata": {},
   "source": [
    "# Fall 2024 Final Exam Problem 1"
   ]
  },
  {
   "cell_type": "markdown",
   "id": "2353910c-367e-480e-a4eb-f47949ed7e4f",
   "metadata": {},
   "source": [
    "## 1. 数据加载与预处理"
   ]
  },
  {
   "cell_type": "code",
   "execution_count": 13,
   "id": "ddc4652b-45d0-4b36-850b-c29c971524e6",
   "metadata": {},
   "outputs": [],
   "source": [
    "import pandas as pd\n",
    "\n",
    "titanic_data_path = 'https://github.com/AndersonHJB/AndersonHJB.github.io/releases/download/V0.05/04-6420_titanic-1.csv'\n",
    "data = pd.read_csv(titanic_data_path)"
   ]
  },
  {
   "cell_type": "code",
   "execution_count": 2,
   "id": "9a5d9443-b5b7-40c5-b52e-86221843f5f2",
   "metadata": {},
   "outputs": [
    {
     "data": {
      "text/html": [
       "<div>\n",
       "<style scoped>\n",
       "    .dataframe tbody tr th:only-of-type {\n",
       "        vertical-align: middle;\n",
       "    }\n",
       "\n",
       "    .dataframe tbody tr th {\n",
       "        vertical-align: top;\n",
       "    }\n",
       "\n",
       "    .dataframe thead th {\n",
       "        text-align: right;\n",
       "    }\n",
       "</style>\n",
       "<table border=\"1\" class=\"dataframe\">\n",
       "  <thead>\n",
       "    <tr style=\"text-align: right;\">\n",
       "      <th></th>\n",
       "      <th>PassengerId</th>\n",
       "      <th>Survived</th>\n",
       "      <th>Pclass</th>\n",
       "      <th>Sex</th>\n",
       "      <th>Age</th>\n",
       "      <th>SibSp</th>\n",
       "      <th>Parch</th>\n",
       "      <th>Fare</th>\n",
       "      <th>Embarked</th>\n",
       "    </tr>\n",
       "  </thead>\n",
       "  <tbody>\n",
       "    <tr>\n",
       "      <th>0</th>\n",
       "      <td>1</td>\n",
       "      <td>0</td>\n",
       "      <td>3</td>\n",
       "      <td>male</td>\n",
       "      <td>22.0</td>\n",
       "      <td>1</td>\n",
       "      <td>0</td>\n",
       "      <td>7.2500</td>\n",
       "      <td>S</td>\n",
       "    </tr>\n",
       "    <tr>\n",
       "      <th>1</th>\n",
       "      <td>2</td>\n",
       "      <td>1</td>\n",
       "      <td>1</td>\n",
       "      <td>female</td>\n",
       "      <td>38.0</td>\n",
       "      <td>1</td>\n",
       "      <td>0</td>\n",
       "      <td>71.2833</td>\n",
       "      <td>C</td>\n",
       "    </tr>\n",
       "    <tr>\n",
       "      <th>2</th>\n",
       "      <td>3</td>\n",
       "      <td>1</td>\n",
       "      <td>3</td>\n",
       "      <td>female</td>\n",
       "      <td>26.0</td>\n",
       "      <td>0</td>\n",
       "      <td>0</td>\n",
       "      <td>7.9250</td>\n",
       "      <td>S</td>\n",
       "    </tr>\n",
       "    <tr>\n",
       "      <th>3</th>\n",
       "      <td>4</td>\n",
       "      <td>1</td>\n",
       "      <td>1</td>\n",
       "      <td>female</td>\n",
       "      <td>35.0</td>\n",
       "      <td>1</td>\n",
       "      <td>0</td>\n",
       "      <td>53.1000</td>\n",
       "      <td>S</td>\n",
       "    </tr>\n",
       "    <tr>\n",
       "      <th>4</th>\n",
       "      <td>5</td>\n",
       "      <td>0</td>\n",
       "      <td>3</td>\n",
       "      <td>male</td>\n",
       "      <td>35.0</td>\n",
       "      <td>0</td>\n",
       "      <td>0</td>\n",
       "      <td>8.0500</td>\n",
       "      <td>S</td>\n",
       "    </tr>\n",
       "  </tbody>\n",
       "</table>\n",
       "</div>"
      ],
      "text/plain": [
       "   PassengerId  Survived  Pclass     Sex   Age  SibSp  Parch     Fare Embarked\n",
       "0            1         0       3    male  22.0      1      0   7.2500        S\n",
       "1            2         1       1  female  38.0      1      0  71.2833        C\n",
       "2            3         1       3  female  26.0      0      0   7.9250        S\n",
       "3            4         1       1  female  35.0      1      0  53.1000        S\n",
       "4            5         0       3    male  35.0      0      0   8.0500        S"
      ]
     },
     "execution_count": 2,
     "metadata": {},
     "output_type": "execute_result"
    }
   ],
   "source": [
    "data.head()"
   ]
  },
  {
   "cell_type": "code",
   "execution_count": 3,
   "id": "c23d3e7f-3c6f-47a9-b3b8-155559b211bb",
   "metadata": {},
   "outputs": [
    {
     "data": {
      "text/plain": [
       "PassengerId      0\n",
       "Survived         0\n",
       "Pclass           0\n",
       "Sex              0\n",
       "Age            177\n",
       "SibSp            0\n",
       "Parch            0\n",
       "Fare             0\n",
       "Embarked         0\n",
       "dtype: int64"
      ]
     },
     "execution_count": 3,
     "metadata": {},
     "output_type": "execute_result"
    }
   ],
   "source": [
    "# 检查缺失值情况\n",
    "missing_values = data.isnull().sum()\n",
    "missing_values"
   ]
  },
  {
   "cell_type": "code",
   "execution_count": 4,
   "id": "3f7c01a3-e17e-43f7-a5ab-fed12883110b",
   "metadata": {},
   "outputs": [
    {
     "data": {
      "text/html": [
       "<div>\n",
       "<style scoped>\n",
       "    .dataframe tbody tr th:only-of-type {\n",
       "        vertical-align: middle;\n",
       "    }\n",
       "\n",
       "    .dataframe tbody tr th {\n",
       "        vertical-align: top;\n",
       "    }\n",
       "\n",
       "    .dataframe thead th {\n",
       "        text-align: right;\n",
       "    }\n",
       "</style>\n",
       "<table border=\"1\" class=\"dataframe\">\n",
       "  <thead>\n",
       "    <tr style=\"text-align: right;\">\n",
       "      <th></th>\n",
       "      <th>PassengerId</th>\n",
       "      <th>Survived</th>\n",
       "      <th>SibSp</th>\n",
       "      <th>Parch</th>\n",
       "      <th>Sex_male</th>\n",
       "      <th>Pclass_2</th>\n",
       "      <th>Pclass_3</th>\n",
       "      <th>Embarked_Q</th>\n",
       "      <th>Embarked_S</th>\n",
       "      <th>Age_scaled</th>\n",
       "      <th>Fare_scaled</th>\n",
       "    </tr>\n",
       "  </thead>\n",
       "  <tbody>\n",
       "    <tr>\n",
       "      <th>0</th>\n",
       "      <td>1</td>\n",
       "      <td>0</td>\n",
       "      <td>1</td>\n",
       "      <td>0</td>\n",
       "      <td>True</td>\n",
       "      <td>False</td>\n",
       "      <td>True</td>\n",
       "      <td>False</td>\n",
       "      <td>True</td>\n",
       "      <td>-0.527669</td>\n",
       "      <td>-0.500240</td>\n",
       "    </tr>\n",
       "    <tr>\n",
       "      <th>1</th>\n",
       "      <td>2</td>\n",
       "      <td>1</td>\n",
       "      <td>1</td>\n",
       "      <td>0</td>\n",
       "      <td>False</td>\n",
       "      <td>False</td>\n",
       "      <td>False</td>\n",
       "      <td>False</td>\n",
       "      <td>False</td>\n",
       "      <td>0.577094</td>\n",
       "      <td>0.788947</td>\n",
       "    </tr>\n",
       "    <tr>\n",
       "      <th>2</th>\n",
       "      <td>3</td>\n",
       "      <td>1</td>\n",
       "      <td>0</td>\n",
       "      <td>0</td>\n",
       "      <td>False</td>\n",
       "      <td>False</td>\n",
       "      <td>True</td>\n",
       "      <td>False</td>\n",
       "      <td>True</td>\n",
       "      <td>-0.251478</td>\n",
       "      <td>-0.486650</td>\n",
       "    </tr>\n",
       "    <tr>\n",
       "      <th>3</th>\n",
       "      <td>4</td>\n",
       "      <td>1</td>\n",
       "      <td>1</td>\n",
       "      <td>0</td>\n",
       "      <td>False</td>\n",
       "      <td>False</td>\n",
       "      <td>False</td>\n",
       "      <td>False</td>\n",
       "      <td>True</td>\n",
       "      <td>0.369951</td>\n",
       "      <td>0.422861</td>\n",
       "    </tr>\n",
       "    <tr>\n",
       "      <th>4</th>\n",
       "      <td>5</td>\n",
       "      <td>0</td>\n",
       "      <td>0</td>\n",
       "      <td>0</td>\n",
       "      <td>True</td>\n",
       "      <td>False</td>\n",
       "      <td>True</td>\n",
       "      <td>False</td>\n",
       "      <td>True</td>\n",
       "      <td>0.369951</td>\n",
       "      <td>-0.484133</td>\n",
       "    </tr>\n",
       "  </tbody>\n",
       "</table>\n",
       "</div>"
      ],
      "text/plain": [
       "   PassengerId  Survived  SibSp  Parch  Sex_male  Pclass_2  Pclass_3  \\\n",
       "0            1         0      1      0      True     False      True   \n",
       "1            2         1      1      0     False     False     False   \n",
       "2            3         1      0      0     False     False      True   \n",
       "3            4         1      1      0     False     False     False   \n",
       "4            5         0      0      0      True     False      True   \n",
       "\n",
       "   Embarked_Q  Embarked_S  Age_scaled  Fare_scaled  \n",
       "0       False        True   -0.527669    -0.500240  \n",
       "1       False       False    0.577094     0.788947  \n",
       "2       False        True   -0.251478    -0.486650  \n",
       "3       False        True    0.369951     0.422861  \n",
       "4       False        True    0.369951    -0.484133  "
      ]
     },
     "execution_count": 4,
     "metadata": {},
     "output_type": "execute_result"
    }
   ],
   "source": [
    "from sklearn.preprocessing import StandardScaler\n",
    "\n",
    "\n",
    "# 编码分类变量\n",
    "data_encoded = pd.get_dummies(data, columns=[\"Sex\", \"Pclass\", \"Embarked\"], drop_first=True)\n",
    "\n",
    "# 标准化数值变量\n",
    "scaler = StandardScaler()\n",
    "data_encoded[\"Age_scaled\"] = scaler.fit_transform(data_encoded[[\"Age\"]])\n",
    "data_encoded[\"Fare_scaled\"] = scaler.fit_transform(data_encoded[[\"Fare\"]])\n",
    "\n",
    "# 删除原始数值列\n",
    "data_encoded = data_encoded.drop(columns=[\"Age\", \"Fare\"])\n",
    "\n",
    "\n",
    "data_encoded.head()"
   ]
  },
  {
   "cell_type": "code",
   "execution_count": 5,
   "id": "35f8c54a-df54-41e8-98c8-05faa5ca2f42",
   "metadata": {},
   "outputs": [
    {
     "name": "stdout",
     "output_type": "stream",
     "text": [
      "缺失值统计：\n",
      " PassengerId      0\n",
      "Survived         0\n",
      "SibSp            0\n",
      "Parch            0\n",
      "Sex_male         0\n",
      "Pclass_2         0\n",
      "Pclass_3         0\n",
      "Embarked_Q       0\n",
      "Embarked_S       0\n",
      "Age_scaled     177\n",
      "Fare_scaled      0\n",
      "dtype: int64\n"
     ]
    }
   ],
   "source": [
    "# 检查缺失值\n",
    "missing_values = data_encoded.isnull().sum()\n",
    "print(\"缺失值统计：\\n\", missing_values)"
   ]
  },
  {
   "cell_type": "markdown",
   "id": "c3137dc0-15de-4db4-bae3-1fc18c095e41",
   "metadata": {},
   "source": [
    "## 2. 模型定义与拟合"
   ]
  },
  {
   "cell_type": "code",
   "execution_count": 6,
   "id": "fd123218-26a8-4150-94f6-d539df1c032c",
   "metadata": {},
   "outputs": [
    {
     "name": "stderr",
     "output_type": "stream",
     "text": [
      "WARNING (pytensor.tensor.blas): Using NumPy C-API based implementation for BLAS functions.\n",
      "Auto-assigning NUTS sampler...\n",
      "Initializing NUTS using jitter+adapt_diag...\n",
      "Multiprocess sampling (4 chains in 4 jobs)\n",
      "NUTS: [alpha, betas, age_missing]\n"
     ]
    },
    {
     "data": {
      "text/html": [
       "\n",
       "<style>\n",
       "    /* Turns off some styling */\n",
       "    progress {\n",
       "        /* gets rid of default border in Firefox and Opera. */\n",
       "        border: none;\n",
       "        /* Needs to be in here for Safari polyfill so background images work as expected. */\n",
       "        background-size: auto;\n",
       "    }\n",
       "    progress:not([value]), progress:not([value])::-webkit-progress-bar {\n",
       "        background: repeating-linear-gradient(45deg, #7e7e7e, #7e7e7e 10px, #5c5c5c 10px, #5c5c5c 20px);\n",
       "    }\n",
       "    .progress-bar-interrupted, .progress-bar-interrupted::-webkit-progress-bar {\n",
       "        background: #F44336;\n",
       "    }\n",
       "</style>\n"
      ],
      "text/plain": [
       "<IPython.core.display.HTML object>"
      ]
     },
     "metadata": {},
     "output_type": "display_data"
    },
    {
     "data": {
      "text/html": [
       "\n",
       "    <div>\n",
       "      <progress value='8000' class='' max='8000' style='width:300px; height:20px; vertical-align: middle;'></progress>\n",
       "      100.00% [8000/8000 00:07&lt;00:00 Sampling 4 chains, 0 divergences]\n",
       "    </div>\n",
       "    "
      ],
      "text/plain": [
       "<IPython.core.display.HTML object>"
      ]
     },
     "metadata": {},
     "output_type": "display_data"
    },
    {
     "name": "stderr",
     "output_type": "stream",
     "text": [
      "Sampling 4 chains for 1_000 tune and 1_000 draw iterations (4_000 + 4_000 draws total) took 7 seconds.\n"
     ]
    },
    {
     "name": "stdout",
     "output_type": "stream",
     "text": [
      "           mean     sd  hdi_3%  hdi_97%  mcse_mean  mcse_sd  ess_bulk  \\\n",
      "alpha     2.665  0.306   2.112    3.265      0.005    0.004    3415.0   \n",
      "betas[0] -2.735  0.199  -3.114   -2.368      0.003    0.002    5694.0   \n",
      "betas[1] -0.508  0.282  -1.014    0.030      0.005    0.003    3825.0   \n",
      "betas[2] -1.576  0.271  -2.117   -1.088      0.005    0.003    3326.0   \n",
      "betas[3] -0.200  0.369  -0.858    0.526      0.005    0.005    5828.0   \n",
      "...         ...    ...     ...      ...        ...      ...       ...   \n",
      "p[884]    0.226  0.050   0.128    0.318      0.001    0.001    3745.0   \n",
      "p[885]    0.882  0.038   0.808    0.946      0.001    0.000    3808.0   \n",
      "p[886]    0.510  0.078   0.362    0.653      0.001    0.001    4375.0   \n",
      "p[887]    0.462  0.082   0.299    0.610      0.001    0.001    4051.0   \n",
      "p[888]    0.122  0.042   0.050    0.204      0.001    0.000    4686.0   \n",
      "\n",
      "          ess_tail  r_hat  \n",
      "alpha       3034.0    1.0  \n",
      "betas[0]    3141.0    1.0  \n",
      "betas[1]    3492.0    1.0  \n",
      "betas[2]    3110.0    1.0  \n",
      "betas[3]    3170.0    1.0  \n",
      "...            ...    ...  \n",
      "p[884]      3208.0    1.0  \n",
      "p[885]      3323.0    1.0  \n",
      "p[886]      3543.0    1.0  \n",
      "p[887]      3692.0    1.0  \n",
      "p[888]      3288.0    1.0  \n",
      "\n",
      "[1076 rows x 9 columns]\n"
     ]
    }
   ],
   "source": [
    "import pymc as pm\n",
    "import numpy as np\n",
    "\n",
    "# 提取目标变量和特征\n",
    "survived = data_encoded[\"Survived\"].values\n",
    "features = data_encoded[\n",
    "    [\n",
    "        \"Sex_male\",\n",
    "        \"Pclass_2\",\n",
    "        \"Pclass_3\",\n",
    "        \"Embarked_Q\",\n",
    "        \"Embarked_S\",\n",
    "        \"Age_scaled\",\n",
    "        \"Fare_scaled\",\n",
    "        \"SibSp\",\n",
    "        \"Parch\",\n",
    "    ]\n",
    "].values\n",
    "\n",
    "# 标记缺失值\n",
    "missing_age_indices = np.isnan(data[\"Age\"].values)\n",
    "age_observed = data_encoded[\"Age_scaled\"][~missing_age_indices].to_numpy()\n",
    "\n",
    "# 确保数据是数值类型\n",
    "features = features.astype(\"float64\")\n",
    "age_observed = age_observed.astype(\"float64\")\n",
    "\n",
    "# PyMC 模型\n",
    "with pm.Model() as logistic_model:\n",
    "    # 截距和回归系数\n",
    "    alpha = pm.Normal(\"alpha\", mu=0, sigma=10)  # 截距\n",
    "    betas = pm.Normal(\"betas\", mu=0, sigma=2.5, shape=features.shape[1])  # 回归系数\n",
    "\n",
    "    # 处理缺失值\n",
    "    age_missing = pm.Uniform(\"age_missing\", lower=0, upper=100, shape=int(np.sum(missing_age_indices)))\n",
    "    age_combined = pm.math.concatenate([age_observed, age_missing])\n",
    "\n",
    "    # 构建符号特征矩阵\n",
    "    symbolic_features = pm.math.concatenate(\n",
    "        [features[:, :5], age_combined[:, None], features[:, 6:]], axis=1\n",
    "    )\n",
    "\n",
    "    # 线性预测器\n",
    "    eta = alpha + pm.math.dot(symbolic_features, betas)\n",
    "    p = pm.Deterministic(\"p\", pm.math.sigmoid(eta))\n",
    "\n",
    "    # 观测值\n",
    "    y_obs = pm.Bernoulli(\"y_obs\", p=p, observed=survived)\n",
    "\n",
    "    # 采样\n",
    "    trace = pm.sample(1000, tune=1000, return_inferencedata=True, random_seed=42)\n",
    "\n",
    "# 查看采样结果\n",
    "print(pm.summary(trace))"
   ]
  },
  {
   "cell_type": "code",
   "execution_count": 7,
   "id": "57f0220a-57f4-4fdd-bcdc-fef5e25afd53",
   "metadata": {},
   "outputs": [],
   "source": [
    "# import pymc as pm\n",
    "# import scipy\n",
    "# print(\"PyMC version:\", pm.__version__)\n",
    "# print(\"Scipy version:\", scipy.__version__)\n",
    "\n",
    "# import pymc as pm\n",
    "# import pytensor\n",
    "# print(\"PyMC version:\", pm.__version__)\n",
    "# print(\"PyTensor version:\", pytensor.__version__)\n"
   ]
  },
  {
   "cell_type": "markdown",
   "id": "8bcaef18-8af0-4761-8415-56f7b356c7fb",
   "metadata": {},
   "source": [
    "## 3. 计算个例生存概率"
   ]
  },
  {
   "cell_type": "code",
   "execution_count": 8,
   "id": "1f070595-71a2-460d-90f7-ecdc209677d7",
   "metadata": {},
   "outputs": [
    {
     "name": "stdout",
     "output_type": "stream",
     "text": [
      "Jack 生存概率: 0.8206696225047905\n",
      "Rose 生存概率: 0.9963477051309062\n"
     ]
    }
   ],
   "source": [
    "# 个例数据\n",
    "jack_features = np.array([1, 0, 1, 0, 1, (20 - data[\"Age\"].mean()) / data[\"Age\"].std(), \n",
    "                          (10 - data[\"Fare\"].mean()) / data[\"Fare\"].std(), 0, 0])\n",
    "rose_features = np.array([0, 0, 0, 0, 1, (17 - data[\"Age\"].mean()) / data[\"Age\"].std(), \n",
    "                          (130 - data[\"Fare\"].mean()) / data[\"Fare\"].std(), 0, 1])\n",
    "\n",
    "# 计算生存概率\n",
    "with logistic_model:\n",
    "    jack_eta = alpha + pm.math.dot(jack_features, betas)\n",
    "    jack_p = pm.math.sigmoid(jack_eta).eval()\n",
    "\n",
    "    rose_eta = alpha + pm.math.dot(rose_features, betas)\n",
    "    rose_p = pm.math.sigmoid(rose_eta).eval()\n",
    "\n",
    "print(f\"Jack 生存概率: {jack_p}\")\n",
    "print(f\"Rose 生存概率: {rose_p}\")\n"
   ]
  },
  {
   "cell_type": "markdown",
   "id": "b69343c5-fe01-413e-b473-dee125b25b57",
   "metadata": {},
   "source": [
    "## 4. 替代链接函数 (loglog)"
   ]
  },
  {
   "cell_type": "code",
   "execution_count": 10,
   "id": "f40b61f2-5e29-4daa-87aa-d0f9a51f6f03",
   "metadata": {},
   "outputs": [
    {
     "name": "stderr",
     "output_type": "stream",
     "text": [
      "Auto-assigning NUTS sampler...\n",
      "Initializing NUTS using jitter+adapt_diag...\n",
      "Multiprocess sampling (4 chains in 4 jobs)\n",
      "NUTS: [alpha, betas, age_missing]\n"
     ]
    },
    {
     "data": {
      "text/html": [
       "\n",
       "<style>\n",
       "    /* Turns off some styling */\n",
       "    progress {\n",
       "        /* gets rid of default border in Firefox and Opera. */\n",
       "        border: none;\n",
       "        /* Needs to be in here for Safari polyfill so background images work as expected. */\n",
       "        background-size: auto;\n",
       "    }\n",
       "    progress:not([value]), progress:not([value])::-webkit-progress-bar {\n",
       "        background: repeating-linear-gradient(45deg, #7e7e7e, #7e7e7e 10px, #5c5c5c 10px, #5c5c5c 20px);\n",
       "    }\n",
       "    .progress-bar-interrupted, .progress-bar-interrupted::-webkit-progress-bar {\n",
       "        background: #F44336;\n",
       "    }\n",
       "</style>\n"
      ],
      "text/plain": [
       "<IPython.core.display.HTML object>"
      ]
     },
     "metadata": {},
     "output_type": "display_data"
    },
    {
     "data": {
      "text/html": [
       "\n",
       "    <div>\n",
       "      <progress value='8000' class='' max='8000' style='width:300px; height:20px; vertical-align: middle;'></progress>\n",
       "      100.00% [8000/8000 00:07&lt;00:00 Sampling 4 chains, 0 divergences]\n",
       "    </div>\n",
       "    "
      ],
      "text/plain": [
       "<IPython.core.display.HTML object>"
      ]
     },
     "metadata": {},
     "output_type": "display_data"
    },
    {
     "name": "stderr",
     "output_type": "stream",
     "text": [
      "Sampling 4 chains for 1_000 tune and 1_000 draw iterations (4_000 + 4_000 draws total) took 8 seconds.\n"
     ]
    },
    {
     "name": "stdout",
     "output_type": "stream",
     "text": [
      "Loglog 模型 WAIC: Computed from 4000 posterior samples and 889 observations log-likelihood matrix.\n",
      "\n",
      "          Estimate       SE\n",
      "elpd_waic  -426.95    16.68\n",
      "p_waic       11.30        -\n",
      "\n",
      "There has been a warning during the calculation. Please check the results.\n"
     ]
    },
    {
     "name": "stderr",
     "output_type": "stream",
     "text": [
      "/Users/huangjiabao/MeCourse/学员资料/44-任新星-gatech.edu美国/2024/期末/HWFinal/OPT/venv/lib/python3.10/site-packages/arviz/stats/stats.py:1653: UserWarning: For one or more samples the posterior variance of the log predictive densities exceeds 0.4. This could be indication of WAIC starting to fail. \n",
      "See http://arxiv.org/abs/1507.04544 for details\n",
      "  warnings.warn(\n"
     ]
    }
   ],
   "source": [
    "import arviz as az\n",
    "with pm.Model() as loglog_model:\n",
    "    # 定义模型的部分保持不变\n",
    "    alpha = pm.Normal(\"alpha\", mu=0, sigma=10)\n",
    "    betas = pm.Normal(\"betas\", mu=0, sigma=2.5, shape=features.shape[1])\n",
    "\n",
    "    # 处理缺失值\n",
    "    age_missing = pm.Uniform(\"age_missing\", lower=0, upper=100, shape=int(np.sum(missing_age_indices)))\n",
    "    age_combined = pm.math.concatenate([age_observed, age_missing])\n",
    "\n",
    "    symbolic_features = pm.math.concatenate(\n",
    "        [features[:, :5], age_combined[:, None], features[:, 6:]], axis=1\n",
    "    )\n",
    "\n",
    "    eta = alpha + pm.math.dot(symbolic_features, betas)\n",
    "    p = pm.Deterministic(\"p\", pm.math.exp(-pm.math.exp(-eta)))\n",
    "\n",
    "    # 定义 log_likelihood 显式变量\n",
    "    log_likelihood = pm.Bernoulli(\"log_likelihood\", p=p, observed=survived)\n",
    "\n",
    "    # 使用 return_inferencedata=True 并指定 log_likelihood\n",
    "    trace_loglog = pm.sample(\n",
    "        1000, tune=1000, return_inferencedata=True, random_seed=42,\n",
    "        idata_kwargs={\"log_likelihood\": True}\n",
    "    )\n",
    "\n",
    "# 计算 WAIC\n",
    "waic_loglog = az.waic(trace_loglog)\n",
    "print(f\"Loglog 模型 WAIC: {waic_loglog}\")\n"
   ]
  },
  {
   "cell_type": "code",
   "execution_count": 17,
   "id": "31fc3bf5-54db-4cf1-9524-e800bd2235ed",
   "metadata": {},
   "outputs": [
    {
     "name": "stderr",
     "output_type": "stream",
     "text": [
      "Auto-assigning NUTS sampler...\n",
      "Initializing NUTS using jitter+adapt_diag...\n",
      "Multiprocess sampling (4 chains in 4 jobs)\n",
      "NUTS: [age_missing_raw, alpha, betas]\n"
     ]
    },
    {
     "data": {
      "text/html": [
       "\n",
       "<style>\n",
       "    /* Turns off some styling */\n",
       "    progress {\n",
       "        /* gets rid of default border in Firefox and Opera. */\n",
       "        border: none;\n",
       "        /* Needs to be in here for Safari polyfill so background images work as expected. */\n",
       "        background-size: auto;\n",
       "    }\n",
       "    progress:not([value]), progress:not([value])::-webkit-progress-bar {\n",
       "        background: repeating-linear-gradient(45deg, #7e7e7e, #7e7e7e 10px, #5c5c5c 10px, #5c5c5c 20px);\n",
       "    }\n",
       "    .progress-bar-interrupted, .progress-bar-interrupted::-webkit-progress-bar {\n",
       "        background: #F44336;\n",
       "    }\n",
       "</style>\n"
      ],
      "text/plain": [
       "<IPython.core.display.HTML object>"
      ]
     },
     "metadata": {},
     "output_type": "display_data"
    },
    {
     "data": {
      "text/html": [
       "\n",
       "    <div>\n",
       "      <progress value='16000' class='' max='16000' style='width:300px; height:20px; vertical-align: middle;'></progress>\n",
       "      100.00% [16000/16000 00:16&lt;00:00 Sampling 4 chains, 0 divergences]\n",
       "    </div>\n",
       "    "
      ],
      "text/plain": [
       "<IPython.core.display.HTML object>"
      ]
     },
     "metadata": {},
     "output_type": "display_data"
    },
    {
     "name": "stderr",
     "output_type": "stream",
     "text": [
      "Sampling 4 chains for 2_000 tune and 2_000 draw iterations (8_000 + 8_000 draws total) took 17 seconds.\n"
     ]
    },
    {
     "name": "stdout",
     "output_type": "stream",
     "text": [
      "Logistic模型后验摘要：\n",
      "           mean     sd  hdi_3%  hdi_97%  mcse_mean  mcse_sd  ess_bulk  \\\n",
      "alpha     0.405  0.284  -0.127    0.949      0.005    0.003    3617.0   \n",
      "betas[0]  2.766  0.207   2.381    3.151      0.002    0.002    8688.0   \n",
      "betas[1] -0.934  0.313  -1.517   -0.349      0.005    0.004    3867.0   \n",
      "betas[2] -2.085  0.314  -2.676   -1.501      0.005    0.004    3381.0   \n",
      "betas[3]  0.121  0.406  -0.638    0.866      0.005    0.004    7022.0   \n",
      "betas[4] -0.518  0.244  -0.987   -0.066      0.003    0.002    5713.0   \n",
      "betas[5] -0.496  0.108  -0.697   -0.294      0.002    0.001    3335.0   \n",
      "betas[6] -0.334  0.115  -0.542   -0.111      0.001    0.001    7580.0   \n",
      "betas[7] -0.124  0.121  -0.351    0.098      0.001    0.001    8112.0   \n",
      "betas[8]  0.134  0.134  -0.112    0.393      0.002    0.001    5275.0   \n",
      "\n",
      "          ess_tail  r_hat  \n",
      "alpha       4449.0    1.0  \n",
      "betas[0]    5636.0    1.0  \n",
      "betas[1]    5533.0    1.0  \n",
      "betas[2]    4411.0    1.0  \n",
      "betas[3]    6475.0    1.0  \n",
      "betas[4]    5709.0    1.0  \n",
      "betas[5]    5691.0    1.0  \n",
      "betas[6]    5756.0    1.0  \n",
      "betas[7]    6556.0    1.0  \n",
      "betas[8]    5323.0    1.0  \n",
      "Jack的生存概率均值: 0.1285\n",
      "Rose的生存概率均值: 0.9595\n"
     ]
    },
    {
     "name": "stderr",
     "output_type": "stream",
     "text": [
      "Auto-assigning NUTS sampler...\n",
      "Initializing NUTS using jitter+adapt_diag...\n",
      "Multiprocess sampling (4 chains in 4 jobs)\n",
      "NUTS: [age_missing_raw_ll, alpha_ll, betas_ll]\n"
     ]
    },
    {
     "data": {
      "text/html": [
       "\n",
       "<style>\n",
       "    /* Turns off some styling */\n",
       "    progress {\n",
       "        /* gets rid of default border in Firefox and Opera. */\n",
       "        border: none;\n",
       "        /* Needs to be in here for Safari polyfill so background images work as expected. */\n",
       "        background-size: auto;\n",
       "    }\n",
       "    progress:not([value]), progress:not([value])::-webkit-progress-bar {\n",
       "        background: repeating-linear-gradient(45deg, #7e7e7e, #7e7e7e 10px, #5c5c5c 10px, #5c5c5c 20px);\n",
       "    }\n",
       "    .progress-bar-interrupted, .progress-bar-interrupted::-webkit-progress-bar {\n",
       "        background: #F44336;\n",
       "    }\n",
       "</style>\n"
      ],
      "text/plain": [
       "<IPython.core.display.HTML object>"
      ]
     },
     "metadata": {},
     "output_type": "display_data"
    },
    {
     "data": {
      "text/html": [
       "\n",
       "    <div>\n",
       "      <progress value='16000' class='' max='16000' style='width:300px; height:20px; vertical-align: middle;'></progress>\n",
       "      100.00% [16000/16000 00:20&lt;00:00 Sampling 4 chains, 0 divergences]\n",
       "    </div>\n",
       "    "
      ],
      "text/plain": [
       "<IPython.core.display.HTML object>"
      ]
     },
     "metadata": {},
     "output_type": "display_data"
    },
    {
     "name": "stderr",
     "output_type": "stream",
     "text": [
      "Sampling 4 chains for 2_000 tune and 2_000 draw iterations (8_000 + 8_000 draws total) took 21 seconds.\n"
     ]
    },
    {
     "name": "stdout",
     "output_type": "stream",
     "text": [
      "Loglog模型后验摘要：\n",
      "              mean     sd  hdi_3%  hdi_97%  mcse_mean  mcse_sd  ess_bulk  \\\n",
      "alpha_ll     0.669  0.184   0.335    1.022      0.003    0.002    4158.0   \n",
      "betas_ll[0]  1.777  0.144   1.501    2.044      0.002    0.001    7718.0   \n",
      "betas_ll[1] -0.642  0.204  -1.026   -0.266      0.003    0.002    4436.0   \n",
      "betas_ll[2] -1.110  0.193  -1.479   -0.756      0.003    0.002    3696.0   \n",
      "betas_ll[3] -0.022  0.252  -0.490    0.460      0.003    0.003    6750.0   \n",
      "betas_ll[4] -0.303  0.149  -0.570   -0.013      0.002    0.001    6107.0   \n",
      "betas_ll[5] -0.332  0.060  -0.446   -0.216      0.001    0.001    3984.0   \n",
      "betas_ll[6] -0.218  0.067  -0.341   -0.092      0.001    0.001    6704.0   \n",
      "betas_ll[7] -0.094  0.084  -0.246    0.068      0.001    0.001    7865.0   \n",
      "betas_ll[8]  0.149  0.102  -0.041    0.338      0.001    0.001    5847.0   \n",
      "\n",
      "             ess_tail  r_hat  \n",
      "alpha_ll       4969.0    1.0  \n",
      "betas_ll[0]    5896.0    1.0  \n",
      "betas_ll[1]    5279.0    1.0  \n",
      "betas_ll[2]    4612.0    1.0  \n",
      "betas_ll[3]    6270.0    1.0  \n",
      "betas_ll[4]    5865.0    1.0  \n",
      "betas_ll[5]    5846.0    1.0  \n",
      "betas_ll[6]    5970.0    1.0  \n",
      "betas_ll[7]    6343.0    1.0  \n",
      "betas_ll[8]    5672.0    1.0  \n",
      "Logit模型 WAIC: 805.01\n",
      "Loglog模型 WAIC: 814.16\n"
     ]
    },
    {
     "name": "stderr",
     "output_type": "stream",
     "text": [
      "/Users/huangjiabao/MeCourse/学员资料/44-任新星-gatech.edu美国/2024/期末/HWFinal/OPT/venv/lib/python3.10/site-packages/arviz/stats/stats.py:1653: UserWarning: For one or more samples the posterior variance of the log predictive densities exceeds 0.4. This could be indication of WAIC starting to fail. \n",
      "See http://arxiv.org/abs/1507.04544 for details\n",
      "  warnings.warn(\n",
      "/Users/huangjiabao/MeCourse/学员资料/44-任新星-gatech.edu美国/2024/期末/HWFinal/OPT/venv/lib/python3.10/site-packages/arviz/stats/stats.py:1653: UserWarning: For one or more samples the posterior variance of the log predictive densities exceeds 0.4. This could be indication of WAIC starting to fail. \n",
      "See http://arxiv.org/abs/1507.04544 for details\n",
      "  warnings.warn(\n"
     ]
    }
   ],
   "source": [
    "# import pandas as pd\n",
    "# import numpy as np\n",
    "# import pymc as pm\n",
    "# import arviz as az\n",
    "# import pytensor.tensor as at\n",
    "\n",
    "# #---------------------------\n",
    "# # 数据加载与预处理\n",
    "# #---------------------------\n",
    "# data_url = 'https://github.com/AndersonHJB/AndersonHJB.github.io/releases/download/V0.05/04-6420_titanic-1.csv'\n",
    "# data = pd.read_csv(data_url)\n",
    "\n",
    "# # 性别编码：female=1, male=0 (male为参考类)\n",
    "# data['Sex'] = (data['Sex'] == 'female').astype(int)\n",
    "\n",
    "# # Pclass: 1为参考类，生成Pclass_2, Pclass_3\n",
    "# data = pd.get_dummies(data, columns=[\"Pclass\"], prefix=\"Pclass\", drop_first=True)\n",
    "\n",
    "# # Embarked: C为参考类，生成Embarked_Q, Embarked_S\n",
    "# data = pd.get_dummies(data, columns=[\"Embarked\"], prefix=\"Embarked\", drop_first=True)\n",
    "\n",
    "# age_data = data[\"Age\"].values\n",
    "# fare_data = data[\"Fare\"].values\n",
    "# survived = data[\"Survived\"].values\n",
    "\n",
    "# Sex_female = data[\"Sex\"].values      # female=1, male=0\n",
    "# Pclass_2 = data[\"Pclass_2\"].values\n",
    "# Pclass_3 = data[\"Pclass_3\"].values\n",
    "# Embarked_Q = data[\"Embarked_Q\"].values\n",
    "# Embarked_S = data[\"Embarked_S\"].values\n",
    "# SibSp = data[\"SibSp\"].astype(float).values\n",
    "# Parch = data[\"Parch\"].astype(float).values\n",
    "\n",
    "# # 计算Age和Fare的均值与标准差（Age仅对已知值）\n",
    "# observed_ages = age_data[~np.isnan(age_data)]\n",
    "# age_mean = observed_ages.mean()\n",
    "# age_std = observed_ages.std()\n",
    "\n",
    "# fare_mean = fare_data.mean()\n",
    "# fare_std = fare_data.std()\n",
    "# fare_scaled = (fare_data - fare_mean)/fare_std\n",
    "\n",
    "# missing_age_indices = np.isnan(age_data)\n",
    "# n_missing = np.sum(missing_age_indices)\n",
    "\n",
    "# #---------------------------\n",
    "# # Logistic 回归模型\n",
    "# #---------------------------\n",
    "# with pm.Model() as logistic_model:\n",
    "#     # 缺失Age用Uniform(0,100)先验，注意shape需为int类型\n",
    "#     age_missing_raw = pm.Uniform(\"age_missing_raw\", lower=0, upper=100, shape=int(n_missing))\n",
    "#     # 将缺失值插入到age_data中\n",
    "#     age_full_imp = at.as_tensor_variable(age_data)\n",
    "#     age_full_imp = at.set_subtensor(age_full_imp[missing_age_indices], age_missing_raw)\n",
    "#     # 标准化Age\n",
    "#     age_full_scaled = (age_full_imp - age_mean)/age_std\n",
    "\n",
    "#     # 先验分布\n",
    "#     alpha = pm.Normal(\"alpha\", mu=0, sigma=10)\n",
    "#     # 特征顺序:\n",
    "#     # [Sex_female, Pclass_2, Pclass_3, Embarked_Q, Embarked_S, Age_scaled, SibSp, Parch, Fare_scaled]\n",
    "#     betas = pm.Normal(\"betas\", mu=0, sigma=2.5, shape=9)\n",
    "\n",
    "#     # 线性预测器\n",
    "#     eta = (alpha\n",
    "#            + betas[0]*Sex_female\n",
    "#            + betas[1]*Pclass_2\n",
    "#            + betas[2]*Pclass_3\n",
    "#            + betas[3]*Embarked_Q\n",
    "#            + betas[4]*Embarked_S\n",
    "#            + betas[5]*age_full_scaled\n",
    "#            + betas[6]*SibSp\n",
    "#            + betas[7]*Parch\n",
    "#            + betas[8]*fare_scaled)\n",
    "\n",
    "#     p = pm.Deterministic(\"p\", pm.math.sigmoid(eta))\n",
    "\n",
    "#     # 观测数据\n",
    "#     y_obs = pm.Bernoulli(\"y_obs\", p=p, observed=survived)\n",
    "\n",
    "#     # MCMC采样，增加log_likelihood存储\n",
    "#     trace_logit = pm.sample(draws=2000, tune=2000, target_accept=0.9, random_seed=42, \n",
    "#                             return_inferencedata=True, \n",
    "#                             idata_kwargs={\"log_likelihood\": True})\n",
    "\n",
    "# print(\"Logistic模型后验摘要：\")\n",
    "# print(az.summary(trace_logit, var_names=[\"alpha\",\"betas\"]))\n",
    "\n",
    "# #---------------------------\n",
    "# # 问题2: Jack和Rose生存概率计算\n",
    "# #---------------------------\n",
    "# # Jack: Age=20,male=0,三等舱(Pclass_3=1),S=1,Q=0,Fare=10,SibSp=0,Parch=0\n",
    "# jack_age_scaled = (20 - age_mean)/age_std\n",
    "# jack_fare_scaled = (10 - fare_mean)/fare_std\n",
    "# jack_features = np.array([0,      # Sex_female=0\n",
    "#                           0,      # Pclass_2=0\n",
    "#                           1,      # Pclass_3=1\n",
    "#                           0,      # Embarked_Q=0\n",
    "#                           1,      # Embarked_S=1\n",
    "#                           jack_age_scaled,\n",
    "#                           0,      # SibSp=0\n",
    "#                           0,      # Parch=0\n",
    "#                           jack_fare_scaled])\n",
    "\n",
    "# # Rose: Age=17,female=1,一等舱参考(Pclass_2=0,Pclass_3=0),S=1,Q=0,Fare=130,Parch=1,SibSp=0\n",
    "# rose_age_scaled = (17 - age_mean)/age_std\n",
    "# rose_fare_scaled = (130 - fare_mean)/fare_std\n",
    "# rose_features = np.array([1,      # Sex_female=1\n",
    "#                           0,      # Pclass_2=0\n",
    "#                           0,      # Pclass_3=0\n",
    "#                           0,      # Embarked_Q=0\n",
    "#                           1,      # Embarked_S=1\n",
    "#                           rose_age_scaled,\n",
    "#                           0,      # SibSp=0\n",
    "#                           1,      # Parch=1\n",
    "#                           rose_fare_scaled])\n",
    "\n",
    "# posterior = trace_logit.posterior\n",
    "# alpha_samples = posterior[\"alpha\"].values\n",
    "# betas_samples = posterior[\"betas\"].values\n",
    "\n",
    "# def compute_prob(alpha_samp, betas_samp, features):\n",
    "#     eta_val = alpha_samp + np.dot(betas_samp, features)\n",
    "#     return 1/(1+np.exp(-eta_val))\n",
    "\n",
    "# jack_probs = []\n",
    "# rose_probs = []\n",
    "# for i in range(alpha_samples.shape[0]):\n",
    "#     for j in range(alpha_samples.shape[1]):\n",
    "#         jack_probs.append(compute_prob(alpha_samples[i,j], betas_samples[i,j,:], jack_features))\n",
    "#         rose_probs.append(compute_prob(alpha_samples[i,j], betas_samples[i,j,:], rose_features))\n",
    "\n",
    "# jack_mean_prob = np.mean(jack_probs)\n",
    "# rose_mean_prob = np.mean(rose_probs)\n",
    "# print(f\"Jack的生存概率均值: {jack_mean_prob:.4f}\")\n",
    "# print(f\"Rose的生存概率均值: {rose_mean_prob:.4f}\")\n",
    "\n",
    "# #---------------------------\n",
    "# # 问题3：使用loglog链接函数\n",
    "# # p = exp(-exp(-eta))\n",
    "# #---------------------------\n",
    "# with pm.Model() as loglog_model:\n",
    "#     age_missing_raw_ll = pm.Uniform(\"age_missing_raw_ll\", lower=0, upper=100, shape=int(n_missing))\n",
    "#     age_full_imp_ll = at.as_tensor_variable(age_data)\n",
    "#     age_full_imp_ll = at.set_subtensor(age_full_imp_ll[missing_age_indices], age_missing_raw_ll)\n",
    "#     age_full_scaled_ll = (age_full_imp_ll - age_mean)/age_std\n",
    "\n",
    "#     alpha_ll = pm.Normal(\"alpha_ll\", mu=0, sigma=10)\n",
    "#     betas_ll = pm.Normal(\"betas_ll\", mu=0, sigma=2.5, shape=9)\n",
    "\n",
    "#     eta_ll = (alpha_ll\n",
    "#               + betas_ll[0]*Sex_female\n",
    "#               + betas_ll[1]*Pclass_2\n",
    "#               + betas_ll[2]*Pclass_3\n",
    "#               + betas_ll[3]*Embarked_Q\n",
    "#               + betas_ll[4]*Embarked_S\n",
    "#               + betas_ll[5]*age_full_scaled_ll\n",
    "#               + betas_ll[6]*SibSp\n",
    "#               + betas_ll[7]*Parch\n",
    "#               + betas_ll[8]*fare_scaled)\n",
    "\n",
    "#     p_loglog = pm.Deterministic(\"p_loglog\", pm.math.exp(-pm.math.exp(-eta_ll)))\n",
    "#     y_obs_ll = pm.Bernoulli(\"y_obs_ll\", p=p_loglog, observed=survived)\n",
    "\n",
    "#     trace_loglog = pm.sample(draws=2000, tune=2000, target_accept=0.9, random_seed=42, \n",
    "#                              return_inferencedata=True,\n",
    "#                              idata_kwargs={\"log_likelihood\": True})\n",
    "\n",
    "# print(\"Loglog模型后验摘要：\")\n",
    "# print(az.summary(trace_loglog, var_names=[\"alpha_ll\",\"betas_ll\"]))\n",
    "\n",
    "# # 使用WAIC比较模型拟合度\n",
    "# waic_logit = az.waic(trace_logit)\n",
    "# waic_loglog = az.waic(trace_loglog)\n",
    "\n",
    "# print(f\"Logit模型 WAIC: {waic_logit.waic:.2f}\")\n",
    "# print(f\"Loglog模型 WAIC: {waic_loglog.waic:.2f}\")\n",
    "# 使用中文注释，完整代码实现要求\n",
    "# 确保： \n",
    "# 1. 使用贝叶斯方法（PPL）且无频率学派方法\n",
    "# 2. 对Sex, Pclass, Embarked做哑变量编码，使用参考类别（male、Pclass=1、Embarked=C）\n",
    "# 3. Age有缺失，用Uniform(0,100)先验进行缺失值插补，并对Age和Fare标准化（用1个标准差）\n",
    "# 4. 拟合logistic回归模型，查看95%可信区间判断显著性\n",
    "# 5. 给定场景(Jack和Rose)计算生存概率平均值\n",
    "# 6. 用loglog链接函数重新拟合，并通过WAIC对比模型优劣\n",
    "\n",
    "import pandas as pd\n",
    "import numpy as np\n",
    "import pymc as pm\n",
    "import arviz as az\n",
    "import pytensor.tensor as at\n",
    "\n",
    "#---------------------------\n",
    "# 数据加载与预处理\n",
    "#---------------------------\n",
    "data_url = 'https://github.com/AndersonHJB/AndersonHJB.github.io/releases/download/V0.05/04-6420_titanic-1.csv'\n",
    "data = pd.read_csv(data_url)\n",
    "\n",
    "# 性别编码：female=1, male=0 (male为参考类)\n",
    "data['Sex'] = (data['Sex'] == 'female').astype(int)\n",
    "\n",
    "# Pclass: 1为参考类，生成Pclass_2, Pclass_3\n",
    "data = pd.get_dummies(data, columns=[\"Pclass\"], prefix=\"Pclass\", drop_first=True)\n",
    "\n",
    "# Embarked: C为参考类，生成Embarked_Q, Embarked_S\n",
    "data = pd.get_dummies(data, columns=[\"Embarked\"], prefix=\"Embarked\", drop_first=True)\n",
    "\n",
    "age_data = data[\"Age\"].values\n",
    "fare_data = data[\"Fare\"].values\n",
    "survived = data[\"Survived\"].values\n",
    "\n",
    "Sex_female = data[\"Sex\"].values      # female=1, male=0\n",
    "Pclass_2 = data[\"Pclass_2\"].values\n",
    "Pclass_3 = data[\"Pclass_3\"].values\n",
    "Embarked_Q = data[\"Embarked_Q\"].values\n",
    "Embarked_S = data[\"Embarked_S\"].values\n",
    "SibSp = data[\"SibSp\"].astype(float).values\n",
    "Parch = data[\"Parch\"].astype(float).values\n",
    "\n",
    "# 计算Age和Fare的均值与标准差（Age仅对已知值）\n",
    "observed_ages = age_data[~np.isnan(age_data)]\n",
    "age_mean = observed_ages.mean()\n",
    "age_std = observed_ages.std()\n",
    "\n",
    "fare_mean = fare_data.mean()\n",
    "fare_std = fare_data.std()\n",
    "fare_scaled = (fare_data - fare_mean)/fare_std\n",
    "\n",
    "missing_age_indices = np.isnan(age_data)\n",
    "n_missing = np.sum(missing_age_indices)\n",
    "\n",
    "#---------------------------\n",
    "# Logistic 回归模型\n",
    "#---------------------------\n",
    "with pm.Model() as logistic_model:\n",
    "    # 缺失Age用Uniform(0,100)先验，注意shape需为int类型\n",
    "    age_missing_raw = pm.Uniform(\"age_missing_raw\", lower=0, upper=100, shape=int(n_missing))\n",
    "    # 将缺失值插入到age_data中\n",
    "    age_full_imp = at.as_tensor_variable(age_data)\n",
    "    age_full_imp = at.set_subtensor(age_full_imp[missing_age_indices], age_missing_raw)\n",
    "    # 标准化Age\n",
    "    age_full_scaled = (age_full_imp - age_mean)/age_std\n",
    "\n",
    "    # 先验分布\n",
    "    alpha = pm.Normal(\"alpha\", mu=0, sigma=10)\n",
    "    # 特征顺序:\n",
    "    # [Sex_female, Pclass_2, Pclass_3, Embarked_Q, Embarked_S, Age_scaled, SibSp, Parch, Fare_scaled]\n",
    "    betas = pm.Normal(\"betas\", mu=0, sigma=2.5, shape=9)\n",
    "\n",
    "    # 线性预测器\n",
    "    eta = (alpha\n",
    "           + betas[0]*Sex_female\n",
    "           + betas[1]*Pclass_2\n",
    "           + betas[2]*Pclass_3\n",
    "           + betas[3]*Embarked_Q\n",
    "           + betas[4]*Embarked_S\n",
    "           + betas[5]*age_full_scaled\n",
    "           + betas[6]*SibSp\n",
    "           + betas[7]*Parch\n",
    "           + betas[8]*fare_scaled)\n",
    "\n",
    "    p = pm.Deterministic(\"p\", pm.math.sigmoid(eta))\n",
    "\n",
    "    # 观测数据\n",
    "    y_obs = pm.Bernoulli(\"y_obs\", p=p, observed=survived)\n",
    "\n",
    "    # MCMC采样，增加log_likelihood存储\n",
    "    trace_logit = pm.sample(draws=2000, tune=2000, target_accept=0.9, random_seed=42, \n",
    "                            return_inferencedata=True, \n",
    "                            idata_kwargs={\"log_likelihood\": True})\n",
    "\n",
    "print(\"Logistic模型后验摘要：\")\n",
    "print(az.summary(trace_logit, var_names=[\"alpha\",\"betas\"]))\n",
    "\n",
    "#---------------------------\n",
    "# 问题2: Jack和Rose生存概率计算\n",
    "#---------------------------\n",
    "# Jack: Age=20,male=0,三等舱(Pclass_3=1),S=1,Q=0,Fare=10,SibSp=0,Parch=0\n",
    "jack_age_scaled = (20 - age_mean)/age_std\n",
    "jack_fare_scaled = (10 - fare_mean)/fare_std\n",
    "jack_features = np.array([0,      # Sex_female=0\n",
    "                          0,      # Pclass_2=0\n",
    "                          1,      # Pclass_3=1\n",
    "                          0,      # Embarked_Q=0\n",
    "                          1,      # Embarked_S=1\n",
    "                          jack_age_scaled,\n",
    "                          0,      # SibSp=0\n",
    "                          0,      # Parch=0\n",
    "                          jack_fare_scaled])\n",
    "\n",
    "# Rose: Age=17,female=1,一等舱(Pclass=1参考),S=1,Q=0,Fare=130,Parch=1,SibSp=0\n",
    "rose_age_scaled = (17 - age_mean)/age_std\n",
    "rose_fare_scaled = (130 - fare_mean)/fare_std\n",
    "rose_features = np.array([1,      # Sex_female=1\n",
    "                          0,      # Pclass_2=0(一等舱参考)\n",
    "                          0,      # Pclass_3=0\n",
    "                          0,      # Embarked_Q=0\n",
    "                          1,      # Embarked_S=1\n",
    "                          rose_age_scaled,\n",
    "                          0,      # SibSp=0\n",
    "                          1,      # Parch=1\n",
    "                          rose_fare_scaled])\n",
    "\n",
    "posterior = trace_logit.posterior\n",
    "alpha_samples = posterior[\"alpha\"].values\n",
    "betas_samples = posterior[\"betas\"].values\n",
    "\n",
    "def compute_prob(alpha_samp, betas_samp, features):\n",
    "    eta_val = alpha_samp + np.dot(betas_samp, features)\n",
    "    return 1/(1+np.exp(-eta_val))\n",
    "\n",
    "jack_probs = []\n",
    "rose_probs = []\n",
    "for i in range(alpha_samples.shape[0]):\n",
    "    for j in range(alpha_samples.shape[1]):\n",
    "        jack_probs.append(compute_prob(alpha_samples[i,j], betas_samples[i,j,:], jack_features))\n",
    "        rose_probs.append(compute_prob(alpha_samples[i,j], betas_samples[i,j,:], rose_features))\n",
    "\n",
    "jack_mean_prob = np.mean(jack_probs)\n",
    "rose_mean_prob = np.mean(rose_probs)\n",
    "print(f\"Jack的生存概率均值: {jack_mean_prob:.4f}\")\n",
    "print(f\"Rose的生存概率均值: {rose_mean_prob:.4f}\")\n",
    "\n",
    "#---------------------------\n",
    "# 问题3：使用loglog链接函数\n",
    "# p = exp(-exp(-eta))\n",
    "#---------------------------\n",
    "with pm.Model() as loglog_model:\n",
    "    age_missing_raw_ll = pm.Uniform(\"age_missing_raw_ll\", lower=0, upper=100, shape=int(n_missing))\n",
    "    age_full_imp_ll = at.as_tensor_variable(age_data)\n",
    "    age_full_imp_ll = at.set_subtensor(age_full_imp_ll[missing_age_indices], age_missing_raw_ll)\n",
    "    age_full_scaled_ll = (age_full_imp_ll - age_mean)/age_std\n",
    "\n",
    "    alpha_ll = pm.Normal(\"alpha_ll\", mu=0, sigma=10)\n",
    "    betas_ll = pm.Normal(\"betas_ll\", mu=0, sigma=2.5, shape=9)\n",
    "\n",
    "    eta_ll = (alpha_ll\n",
    "              + betas_ll[0]*Sex_female\n",
    "              + betas_ll[1]*Pclass_2\n",
    "              + betas_ll[2]*Pclass_3\n",
    "              + betas_ll[3]*Embarked_Q\n",
    "              + betas_ll[4]*Embarked_S\n",
    "              + betas_ll[5]*age_full_scaled_ll\n",
    "              + betas_ll[6]*SibSp\n",
    "              + betas_ll[7]*Parch\n",
    "              + betas_ll[8]*fare_scaled)\n",
    "\n",
    "    p_loglog = pm.Deterministic(\"p_loglog\", pm.math.exp(-pm.math.exp(-eta_ll)))\n",
    "    y_obs_ll = pm.Bernoulli(\"y_obs_ll\", p=p_loglog, observed=survived)\n",
    "\n",
    "    trace_loglog = pm.sample(draws=2000, tune=2000, target_accept=0.9, random_seed=42, \n",
    "                             return_inferencedata=True,\n",
    "                             idata_kwargs={\"log_likelihood\": True})\n",
    "\n",
    "print(\"Loglog模型后验摘要：\")\n",
    "print(az.summary(trace_loglog, var_names=[\"alpha_ll\",\"betas_ll\"]))\n",
    "\n",
    "# 使用WAIC比较模型，注意从返回对象中提取WAIC需要转换\n",
    "waic_logit = az.waic(trace_logit)\n",
    "waic_loglog = az.waic(trace_loglog)\n",
    "\n",
    "# `az.waic()` 返回ELPDData对象，通过elpd_waic计算WAIC：WAIC = -2 * elpd_waic\n",
    "print(f\"Logit模型 WAIC: {-2 * waic_logit.elpd_waic:.2f}\")\n",
    "print(f\"Loglog模型 WAIC: {-2 * waic_loglog.elpd_waic:.2f}\")\n"
   ]
  },
  {
   "cell_type": "markdown",
   "id": "85fc0699-85ca-4cca-9a10-fec6b709ad26",
   "metadata": {},
   "source": [
    "# Fall 2024 Final Exam Problem 2"
   ]
  },
  {
   "cell_type": "markdown",
   "id": "2cec9c0a-57cc-4318-a12d-6aecd426f88f",
   "metadata": {},
   "source": [
    "## 第 1 部分：导入依赖和加载数据"
   ]
  },
  {
   "cell_type": "code",
   "execution_count": null,
   "id": "fe76f4d1-1687-4b93-8f5f-e2a224df17ad",
   "metadata": {},
   "outputs": [],
   "source": [
    "# https://github.com/AndersonHJB/AndersonHJB.github.io/releases/download/V0.05/06-torque-1.csv"
   ]
  },
  {
   "cell_type": "code",
   "execution_count": 43,
   "id": "15aa6825-1a70-4036-81b6-945fd306606b",
   "metadata": {},
   "outputs": [],
   "source": [
    "import pandas as pd\n",
    "import pymc as pm\n",
    "import arviz as az\n",
    "import numpy as np\n",
    "\n",
    "# 加载数据\n",
    "file_path = 'https://github.com/AndersonHJB/AndersonHJB.github.io/releases/download/V0.05/06-torque-1.csv'  # 请确保文件路径正确\n",
    "data = pd.read_csv(file_path)\n",
    "\n",
    "# 将分类变量编码\n",
    "plating_levels = pd.Categorical(data['plating']).codes\n",
    "medium_levels = pd.Categorical(data['medium']).codes\n",
    "torque_values = data['torque'].values\n"
   ]
  },
  {
   "cell_type": "markdown",
   "id": "99fa01f9-3a5e-4f41-8a06-c37d2e91ad11",
   "metadata": {},
   "source": [
    "## 第 2 部分：两传统 ANOVA 分析"
   ]
  },
  {
   "cell_type": "code",
   "execution_count": 44,
   "id": "99c39067-4bd8-48f8-8a95-dec5e2bf65d5",
   "metadata": {},
   "outputs": [
    {
     "name": "stdout",
     "output_type": "stream",
     "text": [
      "Two-Way ANOVA Results:\n",
      "                           sum_sq    df          F        PR(>F)\n",
      "C(plating)            2290.633333   2.0  31.311817  9.362552e-10\n",
      "C(medium)              821.400000   1.0  22.456258  1.604064e-05\n",
      "C(plating):C(medium)   665.100000   2.0   9.091586  3.952398e-04\n",
      "Residual              1975.200000  54.0        NaN           NaN\n"
     ]
    }
   ],
   "source": [
    "import statsmodels.api as sm\n",
    "from statsmodels.formula.api import ols\n",
    "\n",
    "# 方差分析\n",
    "model = ols('torque ~ C(plating) * C(medium)', data=data).fit()\n",
    "anova_table = sm.stats.anova_lm(model, typ=2)\n",
    "\n",
    "# 显示 ANOVA 结果\n",
    "print(\"Two-Way ANOVA Results:\")\n",
    "print(anova_table)"
   ]
  },
  {
   "cell_type": "markdown",
   "id": "11373ccb-c9fd-4c0a-bbd1-ffb5f50ce040",
   "metadata": {},
   "source": [
    "## 第 3 部分：贝叶斯模型（方差不随涂层类型变化）"
   ]
  },
  {
   "cell_type": "code",
   "execution_count": 53,
   "id": "34990fe0-c1c8-4c18-9285-b7a57fe45571",
   "metadata": {},
   "outputs": [
    {
     "name": "stderr",
     "output_type": "stream",
     "text": [
      "Auto-assigning NUTS sampler...\n",
      "Initializing NUTS using jitter+adapt_diag...\n",
      "Multiprocess sampling (2 chains in 2 jobs)\n",
      "NUTS: [mu_intercept, mu_plating, mu_medium, mu_interaction, sigma]\n"
     ]
    },
    {
     "data": {
      "text/html": [
       "\n",
       "<style>\n",
       "    /* Turns off some styling */\n",
       "    progress {\n",
       "        /* gets rid of default border in Firefox and Opera. */\n",
       "        border: none;\n",
       "        /* Needs to be in here for Safari polyfill so background images work as expected. */\n",
       "        background-size: auto;\n",
       "    }\n",
       "    progress:not([value]), progress:not([value])::-webkit-progress-bar {\n",
       "        background: repeating-linear-gradient(45deg, #7e7e7e, #7e7e7e 10px, #5c5c5c 10px, #5c5c5c 20px);\n",
       "    }\n",
       "    .progress-bar-interrupted, .progress-bar-interrupted::-webkit-progress-bar {\n",
       "        background: #F44336;\n",
       "    }\n",
       "</style>\n"
      ],
      "text/plain": [
       "<IPython.core.display.HTML object>"
      ]
     },
     "metadata": {},
     "output_type": "display_data"
    },
    {
     "data": {
      "text/html": [
       "\n",
       "    <div>\n",
       "      <progress value='6000' class='' max='6000' style='width:300px; height:20px; vertical-align: middle;'></progress>\n",
       "      100.00% [6000/6000 00:13&lt;00:00 Sampling 2 chains, 0 divergences]\n",
       "    </div>\n",
       "    "
      ],
      "text/plain": [
       "<IPython.core.display.HTML object>"
      ]
     },
     "metadata": {},
     "output_type": "display_data"
    },
    {
     "name": "stderr",
     "output_type": "stream",
     "text": [
      "Sampling 2 chains for 1_000 tune and 2_000 draw iterations (2_000 + 4_000 draws total) took 13 seconds.\n",
      "We recommend running at least 4 chains for robust computation of convergence diagnostics\n"
     ]
    },
    {
     "name": "stdout",
     "output_type": "stream",
     "text": [
      "                       mean    sd  hdi_3%  hdi_97%  mcse_mean  mcse_sd  \\\n",
      "mu_intercept          11.74  7.16   -1.85    24.79       0.13     0.09   \n",
      "mu_plating[0]         -0.30  7.21  -13.47    13.89       0.12     0.13   \n",
      "mu_plating[1]          9.42  7.15   -4.67    22.25       0.12     0.09   \n",
      "mu_plating[2]          2.92  7.24  -10.97    16.13       0.12     0.11   \n",
      "mu_medium[0]           8.83  7.14   -4.83    21.59       0.13     0.11   \n",
      "mu_medium[1]           3.22  7.10   -9.65    16.95       0.12     0.12   \n",
      "mu_interaction[0, 0]  -2.76  6.93  -15.89    10.23       0.12     0.11   \n",
      "mu_interaction[0, 1]   2.15  7.23  -11.41    15.63       0.12     0.11   \n",
      "mu_interaction[1, 0]   4.56  7.10   -8.90    17.50       0.12     0.10   \n",
      "mu_interaction[1, 1]   4.82  7.16   -9.20    17.26       0.13     0.11   \n",
      "mu_interaction[2, 0]   6.73  7.04   -5.79    20.69       0.12     0.10   \n",
      "mu_interaction[2, 1]  -3.66  7.21  -18.03     9.15       0.12     0.10   \n",
      "sigma                  6.15  0.61    5.01     7.26       0.01     0.01   \n",
      "\n",
      "                      ess_bulk  ess_tail  r_hat  \n",
      "mu_intercept           3189.90   2710.77    1.0  \n",
      "mu_plating[0]          3474.22   2400.70    1.0  \n",
      "mu_plating[1]          3551.24   2496.20    1.0  \n",
      "mu_plating[2]          3388.59   2410.37    1.0  \n",
      "mu_medium[0]           3113.43   2439.16    1.0  \n",
      "mu_medium[1]           3444.73   2640.53    1.0  \n",
      "mu_interaction[0, 0]   3370.47   2704.74    1.0  \n",
      "mu_interaction[0, 1]   3338.57   2687.57    1.0  \n",
      "mu_interaction[1, 0]   3481.04   2739.57    1.0  \n",
      "mu_interaction[1, 1]   2883.95   2617.87    1.0  \n",
      "mu_interaction[2, 0]   3370.60   2890.84    1.0  \n",
      "mu_interaction[2, 1]   3693.58   2732.34    1.0  \n",
      "sigma                  4274.04   2404.73    1.0  \n"
     ]
    }
   ],
   "source": [
    "# 固定方差模型\n",
    "with pm.Model() as fixed_variance_model:\n",
    "    # 先验\n",
    "    mu_intercept = pm.Normal(\"mu_intercept\", mu=0, sigma=10)\n",
    "    mu_plating = pm.Normal(\"mu_plating\", mu=0, sigma=10, shape=len(set(plating_levels)))\n",
    "    mu_medium = pm.Normal(\"mu_medium\", mu=0, sigma=10, shape=len(set(medium_levels)))\n",
    "    mu_interaction = pm.Normal(\"mu_interaction\", mu=0, sigma=10, shape=(len(set(plating_levels)), len(set(medium_levels))))\n",
    "\n",
    "    # 方差固定\n",
    "    sigma = pm.HalfNormal(\"sigma\", sigma=10)\n",
    "\n",
    "    # 期望值\n",
    "    mu = (\n",
    "        mu_intercept +\n",
    "        mu_plating[plating_levels] +\n",
    "        mu_medium[medium_levels] +\n",
    "        mu_interaction[plating_levels, medium_levels]\n",
    "    )\n",
    "\n",
    "    # 似然函数\n",
    "    torque_obs = pm.Normal(\"torque_obs\", mu=mu, sigma=sigma, observed=torque_values)\n",
    "\n",
    "    # 采样\n",
    "    # trace_fixed_variance = pm.sample(2000, tune=1000, return_inferencedata=True, cores=2)\n",
    "    trace_fixed_variance = pm.sample(\n",
    "        2000, \n",
    "        tune=1000, \n",
    "        return_inferencedata=True, \n",
    "        cores=2,\n",
    "        idata_kwargs={\"log_likelihood\": True}  # 确保包含log_likelihood\n",
    "    )\n",
    "\n",
    "# 总结结果\n",
    "print(az.summary(trace_fixed_variance, round_to=2))\n"
   ]
  },
  {
   "cell_type": "markdown",
   "id": "921beeea-6b46-4801-ab1e-be126d51de49",
   "metadata": {},
   "source": [
    "## 第 4 部分：贝叶斯模型（方差随涂层类型变化）"
   ]
  },
  {
   "cell_type": "code",
   "execution_count": 54,
   "id": "d13a44e9-b894-47aa-b6f0-b7397e7167f5",
   "metadata": {},
   "outputs": [
    {
     "name": "stderr",
     "output_type": "stream",
     "text": [
      "Auto-assigning NUTS sampler...\n",
      "Initializing NUTS using jitter+adapt_diag...\n",
      "Multiprocess sampling (2 chains in 2 jobs)\n",
      "NUTS: [mu_intercept, mu_plating, mu_medium, mu_interaction, sigma_plating]\n"
     ]
    },
    {
     "data": {
      "text/html": [
       "\n",
       "<style>\n",
       "    /* Turns off some styling */\n",
       "    progress {\n",
       "        /* gets rid of default border in Firefox and Opera. */\n",
       "        border: none;\n",
       "        /* Needs to be in here for Safari polyfill so background images work as expected. */\n",
       "        background-size: auto;\n",
       "    }\n",
       "    progress:not([value]), progress:not([value])::-webkit-progress-bar {\n",
       "        background: repeating-linear-gradient(45deg, #7e7e7e, #7e7e7e 10px, #5c5c5c 10px, #5c5c5c 20px);\n",
       "    }\n",
       "    .progress-bar-interrupted, .progress-bar-interrupted::-webkit-progress-bar {\n",
       "        background: #F44336;\n",
       "    }\n",
       "</style>\n"
      ],
      "text/plain": [
       "<IPython.core.display.HTML object>"
      ]
     },
     "metadata": {},
     "output_type": "display_data"
    },
    {
     "data": {
      "text/html": [
       "\n",
       "    <div>\n",
       "      <progress value='6000' class='' max='6000' style='width:300px; height:20px; vertical-align: middle;'></progress>\n",
       "      100.00% [6000/6000 00:15&lt;00:00 Sampling 2 chains, 0 divergences]\n",
       "    </div>\n",
       "    "
      ],
      "text/plain": [
       "<IPython.core.display.HTML object>"
      ]
     },
     "metadata": {},
     "output_type": "display_data"
    },
    {
     "name": "stderr",
     "output_type": "stream",
     "text": [
      "Sampling 2 chains for 1_000 tune and 2_000 draw iterations (2_000 + 4_000 draws total) took 15 seconds.\n",
      "We recommend running at least 4 chains for robust computation of convergence diagnostics\n"
     ]
    },
    {
     "name": "stdout",
     "output_type": "stream",
     "text": [
      "                       mean    sd  hdi_3%  hdi_97%  mcse_mean  mcse_sd  \\\n",
      "mu_intercept          11.81  7.16   -1.43    25.29       0.11     0.08   \n",
      "mu_plating[0]         -0.28  6.99  -14.21    12.06       0.11     0.12   \n",
      "mu_plating[1]          9.50  7.04   -2.99    23.57       0.11     0.09   \n",
      "mu_plating[2]          3.01  6.94  -10.00    15.81       0.11     0.10   \n",
      "mu_medium[0]           8.54  7.11   -4.84    21.45       0.11     0.09   \n",
      "mu_medium[1]           3.22  7.23   -9.75    17.07       0.11     0.11   \n",
      "mu_interaction[0, 0]  -2.61  7.13  -15.52    11.21       0.11     0.11   \n",
      "mu_interaction[0, 1]   2.14  6.91  -11.57    14.70       0.11     0.11   \n",
      "mu_interaction[1, 0]   4.71  7.07   -8.40    17.92       0.10     0.10   \n",
      "mu_interaction[1, 1]   4.70  7.10   -7.91    18.66       0.11     0.10   \n",
      "mu_interaction[2, 0]   6.61  7.23   -7.71    19.69       0.11     0.10   \n",
      "mu_interaction[2, 1]  -3.66  7.19  -17.65     9.06       0.11     0.11   \n",
      "sigma_plating[0]       3.91  0.71    2.69     5.19       0.01     0.01   \n",
      "sigma_plating[1]       5.67  1.05    3.89     7.57       0.01     0.01   \n",
      "sigma_plating[2]       8.67  1.47    6.18    11.43       0.02     0.02   \n",
      "\n",
      "                      ess_bulk  ess_tail  r_hat  \n",
      "mu_intercept           4212.43   2433.20    1.0  \n",
      "mu_plating[0]          4324.16   3169.11    1.0  \n",
      "mu_plating[1]          4265.07   2439.04    1.0  \n",
      "mu_plating[2]          4051.10   2445.73    1.0  \n",
      "mu_medium[0]           4255.68   2733.69    1.0  \n",
      "mu_medium[1]           4367.48   2782.56    1.0  \n",
      "mu_interaction[0, 0]   4391.93   2706.09    1.0  \n",
      "mu_interaction[0, 1]   4142.47   2684.10    1.0  \n",
      "mu_interaction[1, 0]   5005.40   2273.20    1.0  \n",
      "mu_interaction[1, 1]   4489.91   2611.02    1.0  \n",
      "mu_interaction[2, 0]   4363.69   2855.65    1.0  \n",
      "mu_interaction[2, 1]   4283.17   2581.30    1.0  \n",
      "sigma_plating[0]       4171.14   2313.67    1.0  \n",
      "sigma_plating[1]       5833.50   3073.27    1.0  \n",
      "sigma_plating[2]       4959.13   2884.11    1.0  \n"
     ]
    }
   ],
   "source": [
    "# 可变方差模型\n",
    "with pm.Model() as varying_variance_model:\n",
    "    # 先验\n",
    "    mu_intercept = pm.Normal(\"mu_intercept\", mu=0, sigma=10)\n",
    "    mu_plating = pm.Normal(\"mu_plating\", mu=0, sigma=10, shape=len(set(plating_levels)))\n",
    "    mu_medium = pm.Normal(\"mu_medium\", mu=0, sigma=10, shape=len(set(medium_levels)))\n",
    "    mu_interaction = pm.Normal(\"mu_interaction\", mu=0, sigma=10, shape=(len(set(plating_levels)), len(set(medium_levels))))\n",
    "\n",
    "    # 方差随涂层类型变化\n",
    "    sigma_plating = pm.HalfNormal(\"sigma_plating\", sigma=10, shape=len(set(plating_levels)))\n",
    "\n",
    "    # 期望值\n",
    "    mu = (\n",
    "        mu_intercept +\n",
    "        mu_plating[plating_levels] +\n",
    "        mu_medium[medium_levels] +\n",
    "        mu_interaction[plating_levels, medium_levels]\n",
    "    )\n",
    "\n",
    "    # 似然函数\n",
    "    torque_obs = pm.Normal(\"torque_obs\", mu=mu, sigma=sigma_plating[plating_levels], observed=torque_values)\n",
    "\n",
    "    # 采样\n",
    "    # trace_varying_variance = pm.sample(2000, tune=1000, return_inferencedata=True, cores=2)\n",
    "    trace_varying_variance = pm.sample(\n",
    "        2000, \n",
    "        tune=1000, \n",
    "        return_inferencedata=True, \n",
    "        cores=2,\n",
    "        idata_kwargs={\"log_likelihood\": True}  # 确保包含log_likelihood\n",
    "    )\n",
    "\n",
    "\n",
    "# 总结结果\n",
    "print(az.summary(trace_varying_variance, round_to=2))"
   ]
  },
  {
   "cell_type": "markdown",
   "id": "fca93f6e-67cd-41f5-bc55-d0d24c01617d",
   "metadata": {},
   "source": [
    "## 第 5 部分：比较模型性能（DIC/WAIC）"
   ]
  },
  {
   "cell_type": "code",
   "execution_count": 59,
   "id": "9fe2d2f6-4953-47af-bfc9-6b111bb8bf8f",
   "metadata": {},
   "outputs": [
    {
     "name": "stdout",
     "output_type": "stream",
     "text": [
      "ELPD_WAIC for Fixed Variance Model: -197.44658678818766\n",
      "ELPD_WAIC for Varying Variance Model: -192.98864130214884\n",
      "WAIC for Fixed Variance Model: 394.8931735763753\n",
      "WAIC for Varying Variance Model: 385.97728260429767\n",
      "The varying variance model performs better based on WAIC.\n"
     ]
    }
   ],
   "source": [
    "import warnings\n",
    "\n",
    "# 可以根据需要忽略特定的 UserWarning\n",
    "warnings.filterwarnings(\"ignore\", message=\"For one or more samples the posterior variance of the log predictive densities exceeds 0.4\")\n",
    "\n",
    "waic_fixed = az.waic(trace_fixed_variance)\n",
    "waic_varying = az.waic(trace_varying_variance)\n",
    "\n",
    "# 打印 elpd_waic\n",
    "print(\"ELPD_WAIC for Fixed Variance Model:\", waic_fixed.elpd_waic)\n",
    "print(\"ELPD_WAIC for Varying Variance Model:\", waic_varying.elpd_waic)\n",
    "\n",
    "# 将 elpd_waic 转换成传统的 WAIC 指标（WAIC = -2 * elpd_waic）\n",
    "fixed_waic_value = -2 * waic_fixed.elpd_waic\n",
    "varying_waic_value = -2 * waic_varying.elpd_waic\n",
    "\n",
    "print(\"WAIC for Fixed Variance Model:\", fixed_waic_value)\n",
    "print(\"WAIC for Varying Variance Model:\", varying_waic_value)\n",
    "\n",
    "# 模型选择\n",
    "if fixed_waic_value < varying_waic_value:\n",
    "    print(\"The fixed variance model performs better based on WAIC.\")\n",
    "else:\n",
    "    print(\"The varying variance model performs better based on WAIC.\")"
   ]
  },
  {
   "cell_type": "code",
   "execution_count": 73,
   "id": "52d9e4f6-fbcd-483e-b26e-3671e88f56dc",
   "metadata": {},
   "outputs": [
    {
     "name": "stderr",
     "output_type": "stream",
     "text": [
      "Auto-assigning NUTS sampler...\n",
      "Initializing NUTS using jitter+adapt_diag...\n",
      "Multiprocess sampling (2 chains in 2 jobs)\n",
      "NUTS: [mu_intercept, alpha_CW, alpha_HT, beta_M, gamma_CW_M, gamma_CW_B, gamma_HT_M, gamma_HT_B, sigma]\n"
     ]
    },
    {
     "data": {
      "text/html": [
       "\n",
       "<style>\n",
       "    /* Turns off some styling */\n",
       "    progress {\n",
       "        /* gets rid of default border in Firefox and Opera. */\n",
       "        border: none;\n",
       "        /* Needs to be in here for Safari polyfill so background images work as expected. */\n",
       "        background-size: auto;\n",
       "    }\n",
       "    progress:not([value]), progress:not([value])::-webkit-progress-bar {\n",
       "        background: repeating-linear-gradient(45deg, #7e7e7e, #7e7e7e 10px, #5c5c5c 10px, #5c5c5c 20px);\n",
       "    }\n",
       "    .progress-bar-interrupted, .progress-bar-interrupted::-webkit-progress-bar {\n",
       "        background: #F44336;\n",
       "    }\n",
       "</style>\n"
      ],
      "text/plain": [
       "<IPython.core.display.HTML object>"
      ]
     },
     "metadata": {},
     "output_type": "display_data"
    },
    {
     "data": {
      "text/html": [
       "\n",
       "    <div>\n",
       "      <progress value='6000' class='' max='6000' style='width:300px; height:20px; vertical-align: middle;'></progress>\n",
       "      100.00% [6000/6000 00:12&lt;00:00 Sampling 2 chains, 0 divergences]\n",
       "    </div>\n",
       "    "
      ],
      "text/plain": [
       "<IPython.core.display.HTML object>"
      ]
     },
     "metadata": {},
     "output_type": "display_data"
    },
    {
     "name": "stderr",
     "output_type": "stream",
     "text": [
      "Sampling 2 chains for 1_000 tune and 2_000 draw iterations (2_000 + 4_000 draws total) took 12 seconds.\n",
      "We recommend running at least 4 chains for robust computation of convergence diagnostics\n",
      "Auto-assigning NUTS sampler...\n",
      "Initializing NUTS using jitter+adapt_diag...\n",
      "Multiprocess sampling (2 chains in 2 jobs)\n",
      "NUTS: [mu_intercept, alpha_CW, alpha_HT, beta_M, gamma_CW_M, gamma_CW_B, gamma_HT_M, gamma_HT_B, sigma_plating]\n"
     ]
    },
    {
     "data": {
      "text/html": [
       "\n",
       "<style>\n",
       "    /* Turns off some styling */\n",
       "    progress {\n",
       "        /* gets rid of default border in Firefox and Opera. */\n",
       "        border: none;\n",
       "        /* Needs to be in here for Safari polyfill so background images work as expected. */\n",
       "        background-size: auto;\n",
       "    }\n",
       "    progress:not([value]), progress:not([value])::-webkit-progress-bar {\n",
       "        background: repeating-linear-gradient(45deg, #7e7e7e, #7e7e7e 10px, #5c5c5c 10px, #5c5c5c 20px);\n",
       "    }\n",
       "    .progress-bar-interrupted, .progress-bar-interrupted::-webkit-progress-bar {\n",
       "        background: #F44336;\n",
       "    }\n",
       "</style>\n"
      ],
      "text/plain": [
       "<IPython.core.display.HTML object>"
      ]
     },
     "metadata": {},
     "output_type": "display_data"
    },
    {
     "data": {
      "text/html": [
       "\n",
       "    <div>\n",
       "      <progress value='6000' class='' max='6000' style='width:300px; height:20px; vertical-align: middle;'></progress>\n",
       "      100.00% [6000/6000 00:13&lt;00:00 Sampling 2 chains, 0 divergences]\n",
       "    </div>\n",
       "    "
      ],
      "text/plain": [
       "<IPython.core.display.HTML object>"
      ]
     },
     "metadata": {},
     "output_type": "display_data"
    },
    {
     "name": "stderr",
     "output_type": "stream",
     "text": [
      "Sampling 2 chains for 1_000 tune and 2_000 draw iterations (2_000 + 4_000 draws total) took 13 seconds.\n",
      "We recommend running at least 4 chains for robust computation of convergence diagnostics\n"
     ]
    },
    {
     "name": "stdout",
     "output_type": "stream",
     "text": [
      "固定方差模型参数总结：\n",
      "               mean    sd  hdi_3%  hdi_97%  mcse_mean  mcse_sd  ess_bulk  \\\n",
      "mu_intercept  23.69  0.80   22.22    25.26       0.01     0.01   3757.87   \n",
      "alpha_CW      -4.69  5.91  -15.48     6.19       0.13     0.09   2179.27   \n",
      "alpha_HT       5.46  5.99   -5.58    17.31       0.14     0.10   1934.68   \n",
      "alpha_PO      -0.77  8.37  -16.59    14.65       0.19     0.15   1965.30   \n",
      "beta_M        -3.66  0.78   -5.21    -2.27       0.01     0.01   3832.24   \n",
      "beta_B         3.66  0.78    2.27     5.21       0.01     0.01   3832.24   \n",
      "gamma_CW_M     1.47  5.98   -9.74    12.33       0.13     0.10   2202.17   \n",
      "gamma_CW_B    -5.33  6.00  -16.08     6.11       0.13     0.09   2185.56   \n",
      "gamma_HT_M     3.74  6.06   -7.44    15.49       0.14     0.10   1929.21   \n",
      "gamma_HT_B     1.60  6.06  -10.03    12.73       0.14     0.10   1962.08   \n",
      "gamma_PO_M    -5.21  8.41  -20.64    10.92       0.19     0.14   1967.32   \n",
      "gamma_PO_B     3.73  8.42  -12.67    18.90       0.19     0.14   1969.17   \n",
      "sigma          6.16  0.62    5.06     7.32       0.01     0.01   3473.04   \n",
      "\n",
      "              ess_tail  r_hat  \n",
      "mu_intercept   2571.68    1.0  \n",
      "alpha_CW       2442.34    1.0  \n",
      "alpha_HT       2181.10    1.0  \n",
      "alpha_PO       2094.96    1.0  \n",
      "beta_M         2668.33    1.0  \n",
      "beta_B         2668.33    1.0  \n",
      "gamma_CW_M     2445.00    1.0  \n",
      "gamma_CW_B     2453.15    1.0  \n",
      "gamma_HT_M     2139.80    1.0  \n",
      "gamma_HT_B     2169.36    1.0  \n",
      "gamma_PO_M     2182.09    1.0  \n",
      "gamma_PO_B     2051.26    1.0  \n",
      "sigma          2441.28    1.0  \n",
      "\n",
      "方差随Plating变化模型参数总结：\n",
      "                   mean    sd  hdi_3%  hdi_97%  mcse_mean  mcse_sd  ess_bulk  \\\n",
      "mu_intercept      23.66  0.82   22.11    25.23       0.01     0.01   4178.84   \n",
      "alpha_CW          -4.69  5.70  -14.91     6.74       0.12     0.09   2104.67   \n",
      "alpha_HT           5.40  5.83   -6.19    15.77       0.13     0.10   1987.60   \n",
      "alpha_PO          -0.71  8.17  -14.97    15.23       0.18     0.13   2006.38   \n",
      "beta_M            -3.65  0.83   -5.26    -2.08       0.01     0.01   5648.36   \n",
      "beta_B             3.65  0.83    2.08     5.26       0.01     0.01   5648.36   \n",
      "gamma_CW_M         1.51  5.77   -9.02    12.78       0.13     0.09   2086.75   \n",
      "gamma_CW_B        -5.24  5.73  -16.16     5.47       0.12     0.09   2118.43   \n",
      "gamma_HT_M         3.82  5.89   -6.73    15.47       0.13     0.10   2003.75   \n",
      "gamma_HT_B         1.74  5.89   -8.54    13.58       0.13     0.10   2024.51   \n",
      "gamma_PO_M        -5.32  8.27  -20.98    10.04       0.18     0.13   2015.14   \n",
      "gamma_PO_B         3.50  8.20  -11.81    18.92       0.18     0.13   2032.13   \n",
      "sigma_plating[0]   3.90  0.69    2.69     5.18       0.01     0.01   4015.90   \n",
      "sigma_plating[1]   5.64  0.99    3.90     7.52       0.02     0.01   4586.28   \n",
      "sigma_plating[2]   8.63  1.43    6.15    11.29       0.02     0.01   6036.72   \n",
      "\n",
      "                  ess_tail  r_hat  \n",
      "mu_intercept       2385.52    1.0  \n",
      "alpha_CW           2398.94    1.0  \n",
      "alpha_HT           2239.27    1.0  \n",
      "alpha_PO           2493.65    1.0  \n",
      "beta_M             2712.75    1.0  \n",
      "beta_B             2712.75    1.0  \n",
      "gamma_CW_M         2297.84    1.0  \n",
      "gamma_CW_B         2542.71    1.0  \n",
      "gamma_HT_M         2233.67    1.0  \n",
      "gamma_HT_B         2232.13    1.0  \n",
      "gamma_PO_M         2459.38    1.0  \n",
      "gamma_PO_B         2543.32    1.0  \n",
      "sigma_plating[0]   2114.84    1.0  \n",
      "sigma_plating[1]   2866.87    1.0  \n",
      "sigma_plating[2]   2517.52    1.0  \n",
      "\n",
      "WAIC比较：\n",
      "Fixed Variance Model WAIC: 395.6881057297093\n",
      "Varying Variance Model WAIC: 385.70859765862116\n",
      "基于WAIC，方差随Plating变化的模型表现更好。\n"
     ]
    }
   ],
   "source": [
    "import pandas as pd\n",
    "import pymc as pm\n",
    "import arviz as az\n",
    "import numpy as np\n",
    "\n",
    "# 加载数据\n",
    "url = 'https://github.com/AndersonHJB/AndersonHJB.github.io/releases/download/V0.05/06-torque-1.csv'\n",
    "data = pd.read_csv(url)\n",
    "\n",
    "# 设置分类变量顺序\n",
    "plating_cat = pd.Categorical(data['plating'], categories=[\"C&W\",\"HT\",\"P&O\"])\n",
    "medium_cat = pd.Categorical(data['medium'], categories=[\"M\",\"B\"])\n",
    "\n",
    "plating_idx = plating_cat.codes\n",
    "medium_idx = medium_cat.codes\n",
    "torque_values = data['torque'].values\n",
    "\n",
    "# 因素水平数\n",
    "n_plating = 3\n",
    "n_medium = 2\n",
    "\n",
    "with pm.Model() as fixed_var_model:\n",
    "    # 截距\n",
    "    mu_intercept = pm.Normal(\"mu_intercept\", mu=0, sigma=10)\n",
    "\n",
    "    # Plating主效应参数化（STZ约束）\n",
    "    alpha_CW = pm.Normal(\"alpha_CW\", mu=0, sigma=10)\n",
    "    alpha_HT = pm.Normal(\"alpha_HT\", mu=0, sigma=10)\n",
    "    alpha_PO = pm.Deterministic(\"alpha_PO\", -(alpha_CW + alpha_HT))\n",
    "\n",
    "    # Medium主效应参数化（STZ约束）\n",
    "    beta_M = pm.Normal(\"beta_M\", mu=0, sigma=10)\n",
    "    beta_B = pm.Deterministic(\"beta_B\", -beta_M)\n",
    "\n",
    "    # 交互效应参数（STZ约束）\n",
    "    gamma_CW_M = pm.Normal(\"gamma_CW_M\", mu=0, sigma=10)\n",
    "    gamma_CW_B = pm.Normal(\"gamma_CW_B\", mu=0, sigma=10)\n",
    "    gamma_HT_M = pm.Normal(\"gamma_HT_M\", mu=0, sigma=10)\n",
    "    gamma_HT_B = pm.Normal(\"gamma_HT_B\", mu=0, sigma=10)\n",
    "\n",
    "    gamma_PO_M = pm.Deterministic(\"gamma_PO_M\", -(gamma_CW_M + gamma_HT_M))\n",
    "    gamma_PO_B = pm.Deterministic(\"gamma_PO_B\", -(gamma_CW_B + gamma_HT_B))\n",
    "\n",
    "    # 使用pm.math.stack来创建张量而不是Python列表\n",
    "    alpha_arr = pm.Deterministic(\"alpha_arr\", pm.math.stack([alpha_CW, alpha_HT, alpha_PO]))\n",
    "    beta_arr = pm.Deterministic(\"beta_arr\", pm.math.stack([beta_M, beta_B]))\n",
    "\n",
    "    row1 = pm.math.stack([gamma_CW_M, gamma_CW_B])\n",
    "    row2 = pm.math.stack([gamma_HT_M, gamma_HT_B])\n",
    "    row3 = pm.math.stack([gamma_PO_M, gamma_PO_B])\n",
    "    gamma_matrix = pm.Deterministic(\"gamma_matrix\", pm.math.stack([row1, row2, row3]))\n",
    "\n",
    "    # 固定方差\n",
    "    sigma = pm.HalfNormal(\"sigma\", sigma=10)\n",
    "\n",
    "    # 均值表达式\n",
    "    mu = (mu_intercept \n",
    "          + alpha_arr[plating_idx] \n",
    "          + beta_arr[medium_idx]\n",
    "          + gamma_matrix[plating_idx, medium_idx])\n",
    "\n",
    "    # 似然\n",
    "    torque_obs = pm.Normal(\"torque_obs\", mu=mu, sigma=sigma, observed=torque_values)\n",
    "\n",
    "    # 采样\n",
    "    trace_fixed = pm.sample(2000, tune=1000, cores=2, return_inferencedata=True, \n",
    "                            idata_kwargs={\"log_likelihood\": True})\n",
    "\n",
    "\n",
    "with pm.Model() as varying_var_model:\n",
    "    mu_intercept = pm.Normal(\"mu_intercept\", mu=0, sigma=10)\n",
    "\n",
    "    # Plating主效应（STZ约束）\n",
    "    alpha_CW = pm.Normal(\"alpha_CW\", mu=0, sigma=10)\n",
    "    alpha_HT = pm.Normal(\"alpha_HT\", mu=0, sigma=10)\n",
    "    alpha_PO = pm.Deterministic(\"alpha_PO\", -(alpha_CW + alpha_HT))\n",
    "\n",
    "    # Medium主效应（STZ约束）\n",
    "    beta_M = pm.Normal(\"beta_M\", mu=0, sigma=10)\n",
    "    beta_B = pm.Deterministic(\"beta_B\", -beta_M)\n",
    "\n",
    "    # 交互效应（STZ约束）\n",
    "    gamma_CW_M = pm.Normal(\"gamma_CW_M\", mu=0, sigma=10)\n",
    "    gamma_CW_B = pm.Normal(\"gamma_CW_B\", mu=0, sigma=10)\n",
    "    gamma_HT_M = pm.Normal(\"gamma_HT_M\", mu=0, sigma=10)\n",
    "    gamma_HT_B = pm.Normal(\"gamma_HT_B\", mu=0, sigma=10)\n",
    "\n",
    "    gamma_PO_M = pm.Deterministic(\"gamma_PO_M\", -(gamma_CW_M + gamma_HT_M))\n",
    "    gamma_PO_B = pm.Deterministic(\"gamma_PO_B\", -(gamma_CW_B + gamma_HT_B))\n",
    "\n",
    "    alpha_arr = pm.Deterministic(\"alpha_arr\", pm.math.stack([alpha_CW, alpha_HT, alpha_PO]))\n",
    "    beta_arr = pm.Deterministic(\"beta_arr\", pm.math.stack([beta_M, beta_B]))\n",
    "\n",
    "    row1 = pm.math.stack([gamma_CW_M, gamma_CW_B])\n",
    "    row2 = pm.math.stack([gamma_HT_M, gamma_HT_B])\n",
    "    row3 = pm.math.stack([gamma_PO_M, gamma_PO_B])\n",
    "    gamma_matrix = pm.Deterministic(\"gamma_matrix\", pm.math.stack([row1, row2, row3]))\n",
    "\n",
    "    # 方差随Plating变化\n",
    "    sigma_plating = pm.HalfNormal(\"sigma_plating\", sigma=10, shape=n_plating)\n",
    "\n",
    "    mu = (mu_intercept \n",
    "          + alpha_arr[plating_idx] \n",
    "          + beta_arr[medium_idx] \n",
    "          + gamma_matrix[plating_idx, medium_idx])\n",
    "\n",
    "    torque_obs = pm.Normal(\"torque_obs\", mu=mu, sigma=sigma_plating[plating_idx], observed=torque_values)\n",
    "    \n",
    "    trace_varying = pm.sample(2000, tune=1000, cores=2, return_inferencedata=True,\n",
    "                              idata_kwargs={\"log_likelihood\": True})\n",
    "\n",
    "\n",
    "print(\"固定方差模型参数总结：\")\n",
    "print(az.summary(trace_fixed, var_names=[\"mu_intercept\",\"alpha_CW\",\"alpha_HT\",\"alpha_PO\",\n",
    "                                         \"beta_M\",\"beta_B\",\"gamma_CW_M\",\"gamma_CW_B\",\n",
    "                                         \"gamma_HT_M\",\"gamma_HT_B\",\"gamma_PO_M\",\"gamma_PO_B\",\"sigma\"], \n",
    "                 round_to=2))\n",
    "\n",
    "print(\"\\n方差随Plating变化模型参数总结：\")\n",
    "print(az.summary(trace_varying, var_names=[\"mu_intercept\",\"alpha_CW\",\"alpha_HT\",\"alpha_PO\",\n",
    "                                           \"beta_M\",\"beta_B\",\"gamma_CW_M\",\"gamma_CW_B\",\n",
    "                                           \"gamma_HT_M\",\"gamma_HT_B\",\"gamma_PO_M\",\"gamma_PO_B\",\"sigma_plating\"], \n",
    "                 round_to=2))\n",
    "\n",
    "# 使用WAIC比较模型\n",
    "waic_fixed = az.waic(trace_fixed)\n",
    "waic_varying = az.waic(trace_varying)\n",
    "\n",
    "print(\"\\nWAIC比较：\")\n",
    "print(\"Fixed Variance Model WAIC:\", -2 * waic_fixed.elpd_waic)\n",
    "print(\"Varying Variance Model WAIC:\", -2 * waic_varying.elpd_waic)\n",
    "\n",
    "if (-2 * waic_fixed.elpd_waic) < (-2 * waic_varying.elpd_waic):\n",
    "    print(\"基于WAIC，固定方差模型表现更好。\")\n",
    "else:\n",
    "    print(\"基于WAIC，方差随Plating变化的模型表现更好。\")"
   ]
  },
  {
   "cell_type": "markdown",
   "id": "64fd8200-3fda-4789-81da-4e29ecbe1cf7",
   "metadata": {},
   "source": [
    "# Fall 2024 Final Exam Problem 3"
   ]
  },
  {
   "cell_type": "code",
   "execution_count": 62,
   "id": "e08fcaee-0801-44b1-88f9-f8d906f85583",
   "metadata": {},
   "outputs": [
    {
     "name": "stderr",
     "output_type": "stream",
     "text": [
      "Auto-assigning NUTS sampler...\n",
      "Initializing NUTS using jitter+adapt_diag...\n",
      "Multiprocess sampling (4 chains in 4 jobs)\n",
      "NUTS: [theta1, theta3, theta4, theta2]\n"
     ]
    },
    {
     "data": {
      "text/html": [
       "\n",
       "<style>\n",
       "    /* Turns off some styling */\n",
       "    progress {\n",
       "        /* gets rid of default border in Firefox and Opera. */\n",
       "        border: none;\n",
       "        /* Needs to be in here for Safari polyfill so background images work as expected. */\n",
       "        background-size: auto;\n",
       "    }\n",
       "    progress:not([value]), progress:not([value])::-webkit-progress-bar {\n",
       "        background: repeating-linear-gradient(45deg, #7e7e7e, #7e7e7e 10px, #5c5c5c 10px, #5c5c5c 20px);\n",
       "    }\n",
       "    .progress-bar-interrupted, .progress-bar-interrupted::-webkit-progress-bar {\n",
       "        background: #F44336;\n",
       "    }\n",
       "</style>\n"
      ],
      "text/plain": [
       "<IPython.core.display.HTML object>"
      ]
     },
     "metadata": {},
     "output_type": "display_data"
    },
    {
     "data": {
      "text/html": [
       "\n",
       "    <div>\n",
       "      <progress value='44000' class='' max='44000' style='width:300px; height:20px; vertical-align: middle;'></progress>\n",
       "      100.00% [44000/44000 00:19&lt;00:00 Sampling 4 chains, 0 divergences]\n",
       "    </div>\n",
       "    "
      ],
      "text/plain": [
       "<IPython.core.display.HTML object>"
      ]
     },
     "metadata": {},
     "output_type": "display_data"
    },
    {
     "name": "stderr",
     "output_type": "stream",
     "text": [
      "Sampling 4 chains for 1_000 tune and 10_000 draw iterations (4_000 + 40_000 draws total) took 19 seconds.\n"
     ]
    },
    {
     "name": "stdout",
     "output_type": "stream",
     "text": [
      "                mean            sd  hdi_2.5%     hdi_97.5%     mcse_mean  \\\n",
      "theta1  1.195850e+02  7.662000e+00   104.981  1.350600e+02  5.500000e-02   \n",
      "theta3  4.900000e+00  1.931000e+00     2.432  8.932000e+00  9.700000e-02   \n",
      "theta4  2.454272e+15  4.487768e+17     0.000  1.290641e+07  2.367554e+15   \n",
      "theta2  1.420000e-01  1.900000e-02     0.106  1.790000e-01  0.000000e+00   \n",
      "\n",
      "             mcse_sd  ess_bulk  ess_tail  r_hat  \n",
      "theta1  3.900000e-02   19608.0   22101.0   1.00  \n",
      "theta3  6.900000e-02     523.0    2456.0   1.01  \n",
      "theta4  1.674127e+15     523.0    2751.0   1.01  \n",
      "theta2  0.000000e+00   17679.0   20326.0   1.00  \n",
      "Predictive mean: 86.982525\n",
      "95% HDI: [ 65 106]\n"
     ]
    }
   ],
   "source": [
    "# import pymc as pm\n",
    "# import numpy as np\n",
    "# import pandas as pd\n",
    "# import arviz as az\n",
    "# from scipy.stats import norm\n",
    "\n",
    "# # 读取数据\n",
    "# data = pd.read_csv(\"https://github.com/AndersonHJB/AndersonHJB.github.io/releases/download/V0.05/05-nanowire-2.csv\")\n",
    "# x = data['x'].values\n",
    "# y = data['y'].values\n",
    "\n",
    "# # 构建概率模型\n",
    "# with pm.Model() as model:\n",
    "#     # 参数的先验分布\n",
    "#     theta1 = pm.Lognormal('theta1', mu=0, sigma=10)\n",
    "#     theta3 = pm.Lognormal('theta3', mu=0, sigma=10)\n",
    "#     theta4 = pm.Lognormal('theta4', mu=0, sigma=10)\n",
    "#     theta2 = pm.Uniform('theta2', lower=0, upper=1)\n",
    "\n",
    "#     # 使用 erfc 实现标准正态分布的累积分布函数\n",
    "#     norm_cdf = 0.5 * pm.math.erfc(-x / (theta4 * pm.math.sqrt(2)))\n",
    "\n",
    "#     # 定义均值函数\n",
    "#     mu = (\n",
    "#         theta1 * pm.math.exp(-theta2 * x**2) +\n",
    "#         theta3 * (1 - pm.math.exp(-theta2 * x**2)) * norm_cdf\n",
    "#     )\n",
    "\n",
    "#     # 观测数据的似然函数\n",
    "#     y_obs = pm.Poisson('y_obs', mu=mu, observed=y)\n",
    "\n",
    "#     # 采样设置：10,000个后验样本，1,000个调整样本\n",
    "#     trace = pm.sample(10000, tune=1000, target_accept=0.95, random_seed=42)\n",
    "\n",
    "# # 后验样本的统计摘要\n",
    "# summary = az.summary(trace, hdi_prob=0.95)\n",
    "# print(summary)\n",
    "\n",
    "# # 使用后验分布预测厚度为 1.5 nm 时的纳米线密度\n",
    "# x_new = 1.5\n",
    "# theta1_samples = trace.posterior['theta1'].values.flatten()\n",
    "# theta3_samples = trace.posterior['theta3'].values.flatten()\n",
    "# theta4_samples = trace.posterior['theta4'].values.flatten()\n",
    "# theta2_samples = trace.posterior['theta2'].values.flatten()\n",
    "\n",
    "# # 构建新数据的均值\n",
    "# norm_cdf_new = 0.5 * norm.cdf(-x_new / (theta4_samples * np.sqrt(2)))\n",
    "# mu_new = (\n",
    "#     theta1_samples * np.exp(-theta2_samples * x_new**2) +\n",
    "#     theta3_samples * (1 - np.exp(-theta2_samples * x_new**2)) * norm_cdf_new\n",
    "# )\n",
    "\n",
    "# # 预测分布\n",
    "# predictive_samples = np.random.poisson(mu_new)\n",
    "# predictive_mean = np.mean(predictive_samples)\n",
    "# predictive_hdi = az.hdi(predictive_samples, hdi_prob=0.95)\n",
    "\n",
    "# # 输出预测结果\n",
    "# print(f\"Predictive mean: {predictive_mean}\")\n",
    "# print(f\"95% HDI: {predictive_hdi}\")"
   ]
  },
  {
   "cell_type": "code",
   "execution_count": 64,
   "id": "bde171f3-6f0a-421b-8a09-cba302ca64ac",
   "metadata": {},
   "outputs": [
    {
     "name": "stderr",
     "output_type": "stream",
     "text": [
      "Auto-assigning NUTS sampler...\n",
      "Initializing NUTS using jitter+adapt_diag...\n",
      "Multiprocess sampling (4 chains in 4 jobs)\n",
      "NUTS: [theta1, theta3, theta4, theta2]\n"
     ]
    },
    {
     "data": {
      "text/html": [
       "\n",
       "<style>\n",
       "    /* Turns off some styling */\n",
       "    progress {\n",
       "        /* gets rid of default border in Firefox and Opera. */\n",
       "        border: none;\n",
       "        /* Needs to be in here for Safari polyfill so background images work as expected. */\n",
       "        background-size: auto;\n",
       "    }\n",
       "    progress:not([value]), progress:not([value])::-webkit-progress-bar {\n",
       "        background: repeating-linear-gradient(45deg, #7e7e7e, #7e7e7e 10px, #5c5c5c 10px, #5c5c5c 20px);\n",
       "    }\n",
       "    .progress-bar-interrupted, .progress-bar-interrupted::-webkit-progress-bar {\n",
       "        background: #F44336;\n",
       "    }\n",
       "</style>\n"
      ],
      "text/plain": [
       "<IPython.core.display.HTML object>"
      ]
     },
     "metadata": {},
     "output_type": "display_data"
    },
    {
     "data": {
      "text/html": [
       "\n",
       "    <div>\n",
       "      <progress value='44000' class='' max='44000' style='width:300px; height:20px; vertical-align: middle;'></progress>\n",
       "      100.00% [44000/44000 00:14&lt;00:00 Sampling 4 chains, 0 divergences]\n",
       "    </div>\n",
       "    "
      ],
      "text/plain": [
       "<IPython.core.display.HTML object>"
      ]
     },
     "metadata": {},
     "output_type": "display_data"
    },
    {
     "name": "stderr",
     "output_type": "stream",
     "text": [
      "Sampling 4 chains for 1_000 tune and 10_000 draw iterations (4_000 + 40_000 draws total) took 15 seconds.\n"
     ]
    },
    {
     "name": "stdout",
     "output_type": "stream",
     "text": [
      "           mean     sd  hdi_2.5%  hdi_97.5%  mcse_mean  mcse_sd  ess_bulk  \\\n",
      "theta1  123.071  7.772   108.224    138.438      0.054    0.038   20966.0   \n",
      "theta3   27.312  7.639    13.546     42.705      0.057    0.040   17299.0   \n",
      "theta4   11.556  5.313     7.527     16.554      0.044    0.031   17729.0   \n",
      "theta2    0.186  0.027     0.137      0.241      0.000    0.000   18871.0   \n",
      "\n",
      "        ess_tail  r_hat  \n",
      "theta1   23060.0    1.0  \n",
      "theta3   18115.0    1.0  \n",
      "theta4   16717.0    1.0  \n",
      "theta2   21135.0    1.0  \n",
      "Predictive mean: 85.1678\n",
      "95% HDI: [ 63 104]\n"
     ]
    }
   ],
   "source": [
    "# -*- coding: utf-8 -*-\n",
    "# @Time    : 2024/12/8 21:53\n",
    "# @Author  : AI悦创\n",
    "# @FileName: Q3.py\n",
    "# @Software: PyCharm\n",
    "# @Blog    ：https://bornforthis.cn/\n",
    "# code is far away from bugs with the god animal protecting\n",
    "#    I love animals. They taste delicious.\n",
    "import pymc as pm\n",
    "import numpy as np\n",
    "import pandas as pd\n",
    "import arviz as az\n",
    "from scipy.stats import norm\n",
    "\n",
    "# 读取数据\n",
    "data = pd.read_csv(\"https://github.com/AndersonHJB/AndersonHJB.github.io/releases/download/V0.05/05-nanowire-2.csv\")\n",
    "x = data['x'].values\n",
    "y = data['y'].values\n",
    "\n",
    "# 构建概率模型\n",
    "with pm.Model() as model:\n",
    "    # 参数的先验分布\n",
    "    theta1 = pm.Lognormal('theta1', mu=0, sigma=10)\n",
    "    theta3 = pm.Lognormal('theta3', mu=0, sigma=10)\n",
    "    theta4 = pm.Lognormal('theta4', mu=0, sigma=10)\n",
    "    theta2 = pm.Uniform('theta2', lower=0, upper=1)\n",
    "\n",
    "    # 使用 erfc 来实现Φ(-x/θ4)\n",
    "    # Φ(-x/θ4) = 0.5 * erfc(x/(θ4*sqrt(2)))\n",
    "    norm_cdf = 0.5 * pm.math.erfc(x / (theta4 * pm.math.sqrt(2)))\n",
    "\n",
    "    # 定义均值函数\n",
    "    mu = (\n",
    "        theta1 * pm.math.exp(-theta2 * x**2) +\n",
    "        theta3 * (1 - pm.math.exp(-theta2 * x**2)) * norm_cdf\n",
    "    )\n",
    "\n",
    "    # 观测数据的似然函数\n",
    "    y_obs = pm.Poisson('y_obs', mu=mu, observed=y)\n",
    "\n",
    "    # 采样设置：10,000个后验样本，1,000个调整样本\n",
    "    trace = pm.sample(10000, tune=1000, target_accept=0.95, random_seed=42)\n",
    "\n",
    "# 后验样本的统计摘要\n",
    "summary = az.summary(trace, hdi_prob=0.95)\n",
    "print(summary)\n",
    "\n",
    "# 使用后验分布预测厚度为 1.5 nm 时的纳米线密度\n",
    "x_new = 1.5\n",
    "theta1_samples = trace.posterior['theta1'].values.flatten()\n",
    "theta3_samples = trace.posterior['theta3'].values.flatten()\n",
    "theta4_samples = trace.posterior['theta4'].values.flatten()\n",
    "theta2_samples = trace.posterior['theta2'].values.flatten()\n",
    "\n",
    "# 计算新 x 值下的 Φ(-x_new/θ4)\n",
    "norm_cdf_new = norm.cdf(-x_new / theta4_samples)\n",
    "\n",
    "mu_new = (\n",
    "    theta1_samples * np.exp(-theta2_samples * x_new**2) +\n",
    "    theta3_samples * (1 - np.exp(-theta2_samples * x_new**2)) * norm_cdf_new\n",
    ")\n",
    "\n",
    "# 预测分布\n",
    "predictive_samples = np.random.poisson(mu_new)\n",
    "predictive_mean = np.mean(predictive_samples)\n",
    "predictive_hdi = az.hdi(predictive_samples, hdi_prob=0.95)\n",
    "\n",
    "# 输出预测结果\n",
    "print(f\"Predictive mean: {predictive_mean}\")\n",
    "print(f\"95% HDI: {predictive_hdi}\")"
   ]
  },
  {
   "cell_type": "code",
   "execution_count": null,
   "id": "558560a6-3ec8-47e0-9249-e681f8fea4db",
   "metadata": {},
   "outputs": [],
   "source": []
  }
 ],
 "metadata": {
  "kernelspec": {
   "display_name": "Python 3 (ipykernel)",
   "language": "python",
   "name": "python3"
  },
  "language_info": {
   "codemirror_mode": {
    "name": "ipython",
    "version": 3
   },
   "file_extension": ".py",
   "mimetype": "text/x-python",
   "name": "python",
   "nbconvert_exporter": "python",
   "pygments_lexer": "ipython3",
   "version": "3.10.15"
  }
 },
 "nbformat": 4,
 "nbformat_minor": 5
}
